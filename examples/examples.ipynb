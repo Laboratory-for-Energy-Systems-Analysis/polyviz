{
 "cells": [
  {
   "cell_type": "markdown",
   "id": "63c400ed-b877-4f8c-830a-85e5c48584b8",
   "metadata": {},
   "source": [
    "# `polyviz`\n",
    "An interface between [`brightway2`](https://github.com/brightway-lca/brightway2) and [D3.js](https://d3js.org/)\n",
    "\n",
    "`polyviz` produces D3.js charts self-contained in an HTML file.\n",
    "\n",
    "Author: [Romain Sacchi](mailto:r_s@me.com)"
   ]
  },
  {
   "cell_type": "code",
   "execution_count": 1,
   "id": "24bfa306-1dde-476f-9ad0-75f7d24899aa",
   "metadata": {},
   "outputs": [],
   "source": [
    "from polyviz import sankey, chord, force, violin, choro, treemap\n",
    "import brightway2 as bw\n",
    "bw.projects.set_current(\"new\")"
   ]
  },
  {
   "cell_type": "code",
   "execution_count": 4,
   "id": "2d949ef8-db0a-42b2-8c53-b6cd835defb7",
   "metadata": {},
   "outputs": [
    {
     "data": {
      "text/plain": [
       "'wind turbine network connection construction, 750kW, onshore' (unit, CA-QC, None)"
      ]
     },
     "execution_count": 4,
     "metadata": {},
     "output_type": "execute_result"
    }
   ],
   "source": [
    "act = bw.Database(\"ecoinvent 3.8 cutoff\").random()\n",
    "act"
   ]
  },
  {
   "cell_type": "markdown",
   "id": "5dc04d47-0898-4c57-89be-3fdb0c930053",
   "metadata": {},
   "source": [
    "# Sankey diagram\n",
    "A sankey diagram, with losses and emissions."
   ]
  },
  {
   "cell_type": "code",
   "execution_count": 8,
   "id": "8aa7a65c-4f16-464c-9dd3-43695030e3ac",
   "metadata": {},
   "outputs": [
    {
     "data": {
      "text/plain": [
       "\u001b[0;31mSignature:\u001b[0m\n",
       "\u001b[0msankey\u001b[0m\u001b[0;34m(\u001b[0m\u001b[0;34m\u001b[0m\n",
       "\u001b[0;34m\u001b[0m    \u001b[0mactivity\u001b[0m\u001b[0;34m:\u001b[0m \u001b[0mbw2data\u001b[0m\u001b[0;34m.\u001b[0m\u001b[0mbackends\u001b[0m\u001b[0;34m.\u001b[0m\u001b[0mpeewee\u001b[0m\u001b[0;34m.\u001b[0m\u001b[0mproxies\u001b[0m\u001b[0;34m.\u001b[0m\u001b[0mActivity\u001b[0m\u001b[0;34m,\u001b[0m\u001b[0;34m\u001b[0m\n",
       "\u001b[0;34m\u001b[0m    \u001b[0mmethod\u001b[0m\u001b[0;34m:\u001b[0m \u001b[0mtuple\u001b[0m \u001b[0;34m=\u001b[0m \u001b[0;32mNone\u001b[0m\u001b[0;34m,\u001b[0m\u001b[0;34m\u001b[0m\n",
       "\u001b[0;34m\u001b[0m    \u001b[0mflow_type\u001b[0m\u001b[0;34m:\u001b[0m \u001b[0mstr\u001b[0m \u001b[0;34m=\u001b[0m \u001b[0;32mNone\u001b[0m\u001b[0;34m,\u001b[0m\u001b[0;34m\u001b[0m\n",
       "\u001b[0;34m\u001b[0m    \u001b[0mlevel\u001b[0m\u001b[0;34m:\u001b[0m \u001b[0mint\u001b[0m \u001b[0;34m=\u001b[0m \u001b[0;36m3\u001b[0m\u001b[0;34m,\u001b[0m\u001b[0;34m\u001b[0m\n",
       "\u001b[0;34m\u001b[0m    \u001b[0mcutoff\u001b[0m\u001b[0;34m:\u001b[0m \u001b[0mfloat\u001b[0m \u001b[0;34m=\u001b[0m \u001b[0;36m0.01\u001b[0m\u001b[0;34m,\u001b[0m\u001b[0;34m\u001b[0m\n",
       "\u001b[0;34m\u001b[0m    \u001b[0mfilepath\u001b[0m\u001b[0;34m:\u001b[0m \u001b[0mstr\u001b[0m \u001b[0;34m=\u001b[0m \u001b[0;32mNone\u001b[0m\u001b[0;34m,\u001b[0m\u001b[0;34m\u001b[0m\n",
       "\u001b[0;34m\u001b[0m    \u001b[0mtitle\u001b[0m\u001b[0;34m:\u001b[0m \u001b[0mstr\u001b[0m \u001b[0;34m=\u001b[0m \u001b[0;32mNone\u001b[0m\u001b[0;34m,\u001b[0m\u001b[0;34m\u001b[0m\n",
       "\u001b[0;34m\u001b[0m    \u001b[0mnotebook\u001b[0m\u001b[0;34m:\u001b[0m \u001b[0mbool\u001b[0m \u001b[0;34m=\u001b[0m \u001b[0;32mFalse\u001b[0m\u001b[0;34m,\u001b[0m\u001b[0;34m\u001b[0m\n",
       "\u001b[0;34m\u001b[0m\u001b[0;34m)\u001b[0m \u001b[0;34m->\u001b[0m \u001b[0mstr\u001b[0m\u001b[0;34m\u001b[0m\u001b[0;34m\u001b[0m\u001b[0m\n",
       "\u001b[0;31mDocstring:\u001b[0m\n",
       "Generate a Sankey diagram for a given activity and method.\n",
       ":param activity: Brightway2 activity\n",
       ":param method: tuple representing a Brightway2 method\n",
       ":param flow_type: string representing a flow type e.g., \"kilogram\", \"kilowatt hour\", \"cubic meter\", \"liter\"\n",
       ":param level: number of levels to display in the Sankey diagram\n",
       ":param cutoff: cutoff value for the Sankey diagram\n",
       ":param filepath: Path to save the HTML file\n",
       ":param title: Title of the Sankey diagram\n",
       ":param notebook: Whether to display the Sankey diagram in a Jupyter notebook\n",
       ":return: Path to the generated HTML file\n",
       "\u001b[0;31mFile:\u001b[0m      ~/GitHub/polyviz/polyviz/sankey.py\n",
       "\u001b[0;31mType:\u001b[0m      function"
      ]
     },
     "metadata": {},
     "output_type": "display_data"
    }
   ],
   "source": [
    "sankey?"
   ]
  },
  {
   "cell_type": "code",
   "execution_count": 5,
   "id": "0d400244-62e0-4b26-a762-308bd5fec36c",
   "metadata": {},
   "outputs": [
    {
     "name": "stdout",
     "output_type": "stream",
     "text": [
      "Calculating supply chain score...\n"
     ]
    },
    {
     "name": "stderr",
     "output_type": "stream",
     "text": [
      "/opt/homebrew/Caskroom/miniforge/base/envs/ab/lib/python3.9/site-packages/scikits/umfpack/umfpack.py:736: UmfpackWarning: (almost) singular matrix! (estimated cond. number: 6.19e+13)\n",
      "  warnings.warn(msg, UmfpackWarning)\n"
     ]
    },
    {
     "data": {
      "text/plain": [
       "'/Users/romain/GitHub/polyviz/examples/wind turbine network connection construction 750kW onshore unit CAQC sankey.html'"
      ]
     },
     "execution_count": 5,
     "metadata": {},
     "output_type": "execute_result"
    }
   ],
   "source": [
    "sankey(\n",
    "    activity=act,\n",
    "    level=5,\n",
    "    cutoff=0.01,\n",
    "    method=('IPCC 2013', 'climate change', 'GWP 100a'),\n",
    ")"
   ]
  },
  {
   "cell_type": "markdown",
   "id": "543ac07e-9246-4ad8-b00c-cd814b8c962a",
   "metadata": {},
   "source": [
    "... or with a flow type."
   ]
  },
  {
   "cell_type": "code",
   "execution_count": 5,
   "id": "8b9a21a7-cb90-48d1-b3e7-8b9d7686160a",
   "metadata": {},
   "outputs": [
    {
     "name": "stdout",
     "output_type": "stream",
     "text": [
      "Calculating supply chain score...\n"
     ]
    },
    {
     "name": "stderr",
     "output_type": "stream",
     "text": [
      "/opt/homebrew/Caskroom/miniforge/base/envs/ab/lib/python3.9/site-packages/scikits/umfpack/umfpack.py:736: UmfpackWarning: (almost) singular matrix! (estimated cond. number: 6.19e+13)\n",
      "  warnings.warn(msg, UmfpackWarning)\n"
     ]
    },
    {
     "data": {
      "text/plain": [
       "'/Users/romain/GitHub/polyviz/examples/ethanol production from maize kilogram RoW sankey.html'"
      ]
     },
     "execution_count": 5,
     "metadata": {},
     "output_type": "execute_result"
    }
   ],
   "source": [
    "sankey(\n",
    "    activity=act,\n",
    "    level=5,\n",
    "    cutoff=0.01,\n",
    "    flow_type=\"kilogram\",\n",
    "    fil\n",
    ")"
   ]
  },
  {
   "cell_type": "markdown",
   "id": "61e94358-9517-4d35-be3b-ff263a802624",
   "metadata": {},
   "source": [
    "# Chord diagram\n",
    "\n",
    "Same as Sankey diagram (represents relations between activities), but represented in a circle.\n",
    "Same args as `sankey()`."
   ]
  },
  {
   "cell_type": "code",
   "execution_count": 6,
   "id": "feb9aef1-8145-4cdb-9936-b6fa279ab276",
   "metadata": {},
   "outputs": [
    {
     "data": {
      "text/plain": [
       "\u001b[0;31mSignature:\u001b[0m\n",
       "\u001b[0mchord\u001b[0m\u001b[0;34m(\u001b[0m\u001b[0;34m\u001b[0m\n",
       "\u001b[0;34m\u001b[0m    \u001b[0mactivity\u001b[0m\u001b[0;34m:\u001b[0m \u001b[0mbw2data\u001b[0m\u001b[0;34m.\u001b[0m\u001b[0mbackends\u001b[0m\u001b[0;34m.\u001b[0m\u001b[0mpeewee\u001b[0m\u001b[0;34m.\u001b[0m\u001b[0mproxies\u001b[0m\u001b[0;34m.\u001b[0m\u001b[0mActivity\u001b[0m\u001b[0;34m,\u001b[0m\u001b[0;34m\u001b[0m\n",
       "\u001b[0;34m\u001b[0m    \u001b[0mmethod\u001b[0m\u001b[0;34m:\u001b[0m \u001b[0mtuple\u001b[0m \u001b[0;34m=\u001b[0m \u001b[0;32mNone\u001b[0m\u001b[0;34m,\u001b[0m\u001b[0;34m\u001b[0m\n",
       "\u001b[0;34m\u001b[0m    \u001b[0mflow_type\u001b[0m\u001b[0;34m:\u001b[0m \u001b[0mstr\u001b[0m \u001b[0;34m=\u001b[0m \u001b[0;32mNone\u001b[0m\u001b[0;34m,\u001b[0m\u001b[0;34m\u001b[0m\n",
       "\u001b[0;34m\u001b[0m    \u001b[0mlevel\u001b[0m\u001b[0;34m:\u001b[0m \u001b[0mint\u001b[0m \u001b[0;34m=\u001b[0m \u001b[0;36m3\u001b[0m\u001b[0;34m,\u001b[0m\u001b[0;34m\u001b[0m\n",
       "\u001b[0;34m\u001b[0m    \u001b[0mcutoff\u001b[0m\u001b[0;34m:\u001b[0m \u001b[0mfloat\u001b[0m \u001b[0;34m=\u001b[0m \u001b[0;36m0.01\u001b[0m\u001b[0;34m,\u001b[0m\u001b[0;34m\u001b[0m\n",
       "\u001b[0;34m\u001b[0m    \u001b[0mfilepath\u001b[0m\u001b[0;34m:\u001b[0m \u001b[0mstr\u001b[0m \u001b[0;34m=\u001b[0m \u001b[0;32mNone\u001b[0m\u001b[0;34m,\u001b[0m\u001b[0;34m\u001b[0m\n",
       "\u001b[0;34m\u001b[0m    \u001b[0mtitle\u001b[0m\u001b[0;34m:\u001b[0m \u001b[0mstr\u001b[0m \u001b[0;34m=\u001b[0m \u001b[0;32mNone\u001b[0m\u001b[0;34m,\u001b[0m\u001b[0;34m\u001b[0m\n",
       "\u001b[0;34m\u001b[0m    \u001b[0mnotebook\u001b[0m\u001b[0;34m:\u001b[0m \u001b[0mbool\u001b[0m \u001b[0;34m=\u001b[0m \u001b[0;32mFalse\u001b[0m\u001b[0;34m,\u001b[0m\u001b[0;34m\u001b[0m\n",
       "\u001b[0;34m\u001b[0m    \u001b[0mfigsize\u001b[0m\u001b[0;34m:\u001b[0m \u001b[0mtuple\u001b[0m \u001b[0;34m=\u001b[0m \u001b[0;34m(\u001b[0m\u001b[0;36m720\u001b[0m\u001b[0;34m,\u001b[0m \u001b[0;36m720\u001b[0m\u001b[0;34m)\u001b[0m\u001b[0;34m,\u001b[0m\u001b[0;34m\u001b[0m\n",
       "\u001b[0;34m\u001b[0m\u001b[0;34m)\u001b[0m \u001b[0;34m->\u001b[0m \u001b[0mstr\u001b[0m\u001b[0;34m\u001b[0m\u001b[0;34m\u001b[0m\u001b[0m\n",
       "\u001b[0;31mDocstring:\u001b[0m\n",
       "Generate a Chord diagram for a given activity and method.\n",
       ":param activity: Brightway2 activity\n",
       ":param method: tuple representing a Brightway2 method\n",
       ":param flow_type: string representing a flow type e.g., \"kilogram\", \"kilowatt hour\", \"cubic meter\", \"liter\"\n",
       ":param level: number of levels to display in the Chord diagram\n",
       ":param cutoff: cutoff value for the Chord diagram\n",
       ":param filepath: Path to save the HTML file\n",
       ":param title: Title of the Chord diagram\n",
       ":param notebook: Whether to display the Chord diagram in a Jupyter notebook\n",
       ":param figsize: Size of the figure\n",
       ":return: Path to the generated HTML file\n",
       "\u001b[0;31mFile:\u001b[0m      ~/GitHub/polyviz/polyviz/chord.py\n",
       "\u001b[0;31mType:\u001b[0m      function"
      ]
     },
     "metadata": {},
     "output_type": "display_data"
    }
   ],
   "source": [
    "chord?"
   ]
  },
  {
   "cell_type": "code",
   "execution_count": 6,
   "id": "65ca4498-68f0-4ab1-9ea2-e07a1505d064",
   "metadata": {},
   "outputs": [
    {
     "name": "stdout",
     "output_type": "stream",
     "text": [
      "Calculating supply chain score...\n"
     ]
    },
    {
     "name": "stderr",
     "output_type": "stream",
     "text": [
      "/opt/homebrew/Caskroom/miniforge/base/envs/ab/lib/python3.9/site-packages/scikits/umfpack/umfpack.py:736: UmfpackWarning: (almost) singular matrix! (estimated cond. number: 6.19e+13)\n",
      "  warnings.warn(msg, UmfpackWarning)\n"
     ]
    },
    {
     "data": {
      "text/plain": [
       "'/Users/romain/GitHub/polyviz/examples/wind turbine network connection construction 750kW onshore unit CAQC chord.html'"
      ]
     },
     "execution_count": 6,
     "metadata": {},
     "output_type": "execute_result"
    }
   ],
   "source": [
    "chord(\n",
    "    activity=act,\n",
    "    level=4,\n",
    "    cutoff=0.01,\n",
    "    #flow_type=\"kilogram\",\n",
    "    method=('IPCC 2013', 'climate change', 'GWP 100a'),\n",
    ")"
   ]
  },
  {
   "cell_type": "markdown",
   "id": "837600af-dd32-4efd-9a5e-50549edb7d61",
   "metadata": {},
   "source": [
    "# Force-directed graph\n",
    "\n",
    "Can be useful to identify the strongest bonds between two nodes.\n",
    "Note that, at the moment, it is not possible to adjust the step value of the slider.\n",
    "This is not ideal when the total impact is inferior to 1."
   ]
  },
  {
   "cell_type": "code",
   "execution_count": 8,
   "id": "b0b0e4a0-ccaa-48c5-8ce9-50bf8ad48499",
   "metadata": {},
   "outputs": [
    {
     "data": {
      "text/plain": [
       "\u001b[0;31mSignature:\u001b[0m\n",
       "\u001b[0mforce\u001b[0m\u001b[0;34m(\u001b[0m\u001b[0;34m\u001b[0m\n",
       "\u001b[0;34m\u001b[0m    \u001b[0mactivity\u001b[0m\u001b[0;34m:\u001b[0m \u001b[0mbw2data\u001b[0m\u001b[0;34m.\u001b[0m\u001b[0mbackends\u001b[0m\u001b[0;34m.\u001b[0m\u001b[0mpeewee\u001b[0m\u001b[0;34m.\u001b[0m\u001b[0mproxies\u001b[0m\u001b[0;34m.\u001b[0m\u001b[0mActivity\u001b[0m\u001b[0;34m,\u001b[0m\u001b[0;34m\u001b[0m\n",
       "\u001b[0;34m\u001b[0m    \u001b[0mmethod\u001b[0m\u001b[0;34m:\u001b[0m \u001b[0mtuple\u001b[0m\u001b[0;34m,\u001b[0m\u001b[0;34m\u001b[0m\n",
       "\u001b[0;34m\u001b[0m    \u001b[0mlevel\u001b[0m\u001b[0;34m:\u001b[0m \u001b[0mint\u001b[0m \u001b[0;34m=\u001b[0m \u001b[0;36m3\u001b[0m\u001b[0;34m,\u001b[0m\u001b[0;34m\u001b[0m\n",
       "\u001b[0;34m\u001b[0m    \u001b[0mcutoff\u001b[0m\u001b[0;34m:\u001b[0m \u001b[0mfloat\u001b[0m \u001b[0;34m=\u001b[0m \u001b[0;36m0.01\u001b[0m\u001b[0;34m,\u001b[0m\u001b[0;34m\u001b[0m\n",
       "\u001b[0;34m\u001b[0m    \u001b[0mfilepath\u001b[0m\u001b[0;34m:\u001b[0m \u001b[0mstr\u001b[0m \u001b[0;34m=\u001b[0m \u001b[0;32mNone\u001b[0m\u001b[0;34m,\u001b[0m\u001b[0;34m\u001b[0m\n",
       "\u001b[0;34m\u001b[0m    \u001b[0mtitle\u001b[0m\u001b[0;34m:\u001b[0m \u001b[0mstr\u001b[0m \u001b[0;34m=\u001b[0m \u001b[0;32mNone\u001b[0m\u001b[0;34m,\u001b[0m\u001b[0;34m\u001b[0m\n",
       "\u001b[0;34m\u001b[0m    \u001b[0mnotebook\u001b[0m\u001b[0;34m:\u001b[0m \u001b[0mbool\u001b[0m \u001b[0;34m=\u001b[0m \u001b[0;32mFalse\u001b[0m\u001b[0;34m,\u001b[0m\u001b[0;34m\u001b[0m\n",
       "\u001b[0;34m\u001b[0m\u001b[0;34m)\u001b[0m \u001b[0;34m->\u001b[0m \u001b[0mstr\u001b[0m\u001b[0;34m\u001b[0m\u001b[0;34m\u001b[0m\u001b[0m\n",
       "\u001b[0;31mDocstring:\u001b[0m\n",
       "Generate a force-directed graph for a given activity and method.\n",
       ":param activity: Brightway2 activity\n",
       ":param method: tuple representing a Brightway2 method\n",
       ":param level: Maximum level of recursion\n",
       ":param cutoff: Minimum value of the impact to be displayed\n",
       ":param filepath: Path to save the HTML file\n",
       ":param title: Title of the force-directed graph\n",
       ":param notebook: Whether to display the force-directed graph in a Jupyter notebook\n",
       ":return: Path to the generated HTML file\n",
       "\u001b[0;31mFile:\u001b[0m      ~/GitHub/polyviz/polyviz/force.py\n",
       "\u001b[0;31mType:\u001b[0m      function"
      ]
     },
     "metadata": {},
     "output_type": "display_data"
    }
   ],
   "source": [
    "force?"
   ]
  },
  {
   "cell_type": "code",
   "execution_count": 7,
   "id": "01064dc3-c57f-41c9-a09d-d357309c9ce2",
   "metadata": {},
   "outputs": [
    {
     "name": "stdout",
     "output_type": "stream",
     "text": [
      "Calculating supply chain score...\n"
     ]
    },
    {
     "name": "stderr",
     "output_type": "stream",
     "text": [
      "/opt/homebrew/Caskroom/miniforge/base/envs/ab/lib/python3.9/site-packages/scikits/umfpack/umfpack.py:736: UmfpackWarning: (almost) singular matrix! (estimated cond. number: 6.19e+13)\n",
      "  warnings.warn(msg, UmfpackWarning)\n"
     ]
    },
    {
     "data": {
      "text/plain": [
       "'/Users/romain/GitHub/polyviz/examples/wind turbine network connection construction 750kW onshore unit CAQC force.html'"
      ]
     },
     "execution_count": 7,
     "metadata": {},
     "output_type": "execute_result"
    }
   ],
   "source": [
    "force(\n",
    "    activity=act,\n",
    "    method=('IPCC 2013', 'climate change', 'GWP 100a'),\n",
    "    level=4\n",
    ")"
   ]
  },
  {
   "cell_type": "markdown",
   "id": "63b32684-48b4-4c7e-9866-55862ccf0774",
   "metadata": {},
   "source": [
    "# Choropleth\n",
    "Some sort of heat map that shows how impacts distirbute across countries.\n",
    "When encountering regions instead (RER, RoW, GLO, etc.), the impacts are disaggregated at the country level based on the GDP of the countries contained in the region.\n",
    "However, this approach is probably not perfect."
   ]
  },
  {
   "cell_type": "code",
   "execution_count": 10,
   "id": "a91c63ce-1324-4b11-b919-7905882781f1",
   "metadata": {},
   "outputs": [
    {
     "data": {
      "text/plain": [
       "\u001b[0;31mSignature:\u001b[0m\n",
       "\u001b[0mchoro\u001b[0m\u001b[0;34m(\u001b[0m\u001b[0;34m\u001b[0m\n",
       "\u001b[0;34m\u001b[0m    \u001b[0mactivity\u001b[0m\u001b[0;34m:\u001b[0m \u001b[0mbw2data\u001b[0m\u001b[0;34m.\u001b[0m\u001b[0mbackends\u001b[0m\u001b[0;34m.\u001b[0m\u001b[0mpeewee\u001b[0m\u001b[0;34m.\u001b[0m\u001b[0mproxies\u001b[0m\u001b[0;34m.\u001b[0m\u001b[0mActivity\u001b[0m\u001b[0;34m,\u001b[0m\u001b[0;34m\u001b[0m\n",
       "\u001b[0;34m\u001b[0m    \u001b[0mmethod\u001b[0m\u001b[0;34m:\u001b[0m \u001b[0mtuple\u001b[0m\u001b[0;34m,\u001b[0m\u001b[0;34m\u001b[0m\n",
       "\u001b[0;34m\u001b[0m    \u001b[0mcutoff\u001b[0m\u001b[0;34m:\u001b[0m \u001b[0mfloat\u001b[0m \u001b[0;34m=\u001b[0m \u001b[0;36m0.001\u001b[0m\u001b[0;34m,\u001b[0m\u001b[0;34m\u001b[0m\n",
       "\u001b[0;34m\u001b[0m    \u001b[0mfilepath\u001b[0m\u001b[0;34m:\u001b[0m \u001b[0mstr\u001b[0m \u001b[0;34m=\u001b[0m \u001b[0;32mNone\u001b[0m\u001b[0;34m,\u001b[0m\u001b[0;34m\u001b[0m\n",
       "\u001b[0;34m\u001b[0m    \u001b[0mtitle\u001b[0m\u001b[0;34m:\u001b[0m \u001b[0mstr\u001b[0m \u001b[0;34m=\u001b[0m \u001b[0;32mNone\u001b[0m\u001b[0;34m,\u001b[0m\u001b[0;34m\u001b[0m\n",
       "\u001b[0;34m\u001b[0m    \u001b[0mnotebook\u001b[0m\u001b[0;34m:\u001b[0m \u001b[0mbool\u001b[0m \u001b[0;34m=\u001b[0m \u001b[0;32mFalse\u001b[0m\u001b[0;34m,\u001b[0m\u001b[0;34m\u001b[0m\n",
       "\u001b[0;34m\u001b[0m    \u001b[0mfigsize\u001b[0m\u001b[0;34m:\u001b[0m \u001b[0mtuple\u001b[0m \u001b[0;34m=\u001b[0m \u001b[0;34m(\u001b[0m\u001b[0;36m1000\u001b[0m\u001b[0;34m,\u001b[0m \u001b[0;36m500\u001b[0m\u001b[0;34m)\u001b[0m\u001b[0;34m,\u001b[0m\u001b[0;34m\u001b[0m\n",
       "\u001b[0;34m\u001b[0m\u001b[0;34m)\u001b[0m \u001b[0;34m->\u001b[0m \u001b[0mstr\u001b[0m\u001b[0;34m\u001b[0m\u001b[0;34m\u001b[0m\u001b[0m\n",
       "\u001b[0;31mDocstring:\u001b[0m\n",
       "Generate a choropleth diagram for a given activity and method.\n",
       ":param activity: Brightway2 activity\n",
       ":param method: tuple representing a Brightway2 method\n",
       ":param cutoff: Cutoff value for the impact\n",
       ":param filepath: Path to save the HTML file\n",
       ":param title: Title of the plot\n",
       ":param notebook: Whether to display the plot in a notebook\n",
       ":param figsize: Size of the plot\n",
       ":return: Path to the generated HTML file\n",
       "\u001b[0;31mFile:\u001b[0m      ~/GitHub/polyviz/polyviz/choro.py\n",
       "\u001b[0;31mType:\u001b[0m      function"
      ]
     },
     "metadata": {},
     "output_type": "display_data"
    }
   ],
   "source": [
    "choro?"
   ]
  },
  {
   "cell_type": "code",
   "execution_count": 8,
   "id": "0de8a84c-0238-4498-929a-da34a85222a8",
   "metadata": {},
   "outputs": [
    {
     "name": "stderr",
     "output_type": "stream",
     "text": [
      "/opt/homebrew/Caskroom/miniforge/base/envs/ab/lib/python3.9/site-packages/scikits/umfpack/umfpack.py:736: UmfpackWarning: (almost) singular matrix! (estimated cond. number: 6.19e+13)\n",
      "  warnings.warn(msg, UmfpackWarning)\n"
     ]
    },
    {
     "data": {
      "text/plain": [
       "'/Users/romain/GitHub/polyviz/examples/wind turbine network connection construction 750kW onshore unit CAQC choro.html'"
      ]
     },
     "execution_count": 8,
     "metadata": {},
     "output_type": "execute_result"
    }
   ],
   "source": [
    "choro(\n",
    "    activity=act,\n",
    "    method=('IPCC 2013', 'climate change', 'GWP 100a')\n",
    ")"
   ]
  },
  {
   "cell_type": "markdown",
   "id": "c787fce1-c0b2-41fe-afe4-77f08f47c6b1",
   "metadata": {},
   "source": [
    "# Tree map\n",
    "Tree map of process contributing to impacts, further aggregated by geographies."
   ]
  },
  {
   "cell_type": "code",
   "execution_count": 12,
   "id": "590ef63f-a6c6-4d9c-8259-d61e717fb303",
   "metadata": {},
   "outputs": [
    {
     "data": {
      "text/plain": [
       "\u001b[0;31mSignature:\u001b[0m\n",
       "\u001b[0mtreemap\u001b[0m\u001b[0;34m(\u001b[0m\u001b[0;34m\u001b[0m\n",
       "\u001b[0;34m\u001b[0m    \u001b[0mactivity\u001b[0m\u001b[0;34m:\u001b[0m \u001b[0mbw2data\u001b[0m\u001b[0;34m.\u001b[0m\u001b[0mbackends\u001b[0m\u001b[0;34m.\u001b[0m\u001b[0mpeewee\u001b[0m\u001b[0;34m.\u001b[0m\u001b[0mproxies\u001b[0m\u001b[0;34m.\u001b[0m\u001b[0mActivity\u001b[0m\u001b[0;34m,\u001b[0m\u001b[0;34m\u001b[0m\n",
       "\u001b[0;34m\u001b[0m    \u001b[0mmethod\u001b[0m\u001b[0;34m:\u001b[0m \u001b[0mtuple\u001b[0m\u001b[0;34m,\u001b[0m\u001b[0;34m\u001b[0m\n",
       "\u001b[0;34m\u001b[0m    \u001b[0mcutoff\u001b[0m\u001b[0;34m:\u001b[0m \u001b[0mfloat\u001b[0m \u001b[0;34m=\u001b[0m \u001b[0;36m0.0001\u001b[0m\u001b[0;34m,\u001b[0m\u001b[0;34m\u001b[0m\n",
       "\u001b[0;34m\u001b[0m    \u001b[0mfilepath\u001b[0m\u001b[0;34m:\u001b[0m \u001b[0mstr\u001b[0m \u001b[0;34m=\u001b[0m \u001b[0;32mNone\u001b[0m\u001b[0;34m,\u001b[0m\u001b[0;34m\u001b[0m\n",
       "\u001b[0;34m\u001b[0m    \u001b[0mtitle\u001b[0m\u001b[0;34m:\u001b[0m \u001b[0mstr\u001b[0m \u001b[0;34m=\u001b[0m \u001b[0;32mNone\u001b[0m\u001b[0;34m,\u001b[0m\u001b[0;34m\u001b[0m\n",
       "\u001b[0;34m\u001b[0m    \u001b[0mnotebook\u001b[0m\u001b[0;34m:\u001b[0m \u001b[0mbool\u001b[0m \u001b[0;34m=\u001b[0m \u001b[0;32mFalse\u001b[0m\u001b[0;34m,\u001b[0m\u001b[0;34m\u001b[0m\n",
       "\u001b[0;34m\u001b[0m    \u001b[0mfigsize\u001b[0m\u001b[0;34m:\u001b[0m \u001b[0mtuple\u001b[0m \u001b[0;34m=\u001b[0m \u001b[0;34m(\u001b[0m\u001b[0;36m1000\u001b[0m\u001b[0;34m,\u001b[0m \u001b[0;36m500\u001b[0m\u001b[0;34m)\u001b[0m\u001b[0;34m,\u001b[0m\u001b[0;34m\u001b[0m\n",
       "\u001b[0;34m\u001b[0m\u001b[0;34m)\u001b[0m \u001b[0;34m->\u001b[0m \u001b[0mstr\u001b[0m\u001b[0;34m\u001b[0m\u001b[0;34m\u001b[0m\u001b[0m\n",
       "\u001b[0;31mDocstring:\u001b[0m\n",
       "Generate a choropleth diagram for a given activity and method.\n",
       ":param activity: Brightway2 activity\n",
       ":param method: tuple representing a Brightway2 method\n",
       ":param cutoff: Cutoff value for the impact\n",
       ":param filepath: Path to save the HTML file\n",
       ":param title: Title of the plot\n",
       ":param notebook: Whether to display the plot in a notebook\n",
       ":param figsize: Size of the plot\n",
       ":return: Path to the generated HTML file\n",
       "\u001b[0;31mFile:\u001b[0m      ~/GitHub/polyviz/polyviz/treemap.py\n",
       "\u001b[0;31mType:\u001b[0m      function"
      ]
     },
     "metadata": {},
     "output_type": "display_data"
    }
   ],
   "source": [
    "treemap?"
   ]
  },
  {
   "cell_type": "code",
   "execution_count": 9,
   "id": "4645e0cf-3671-488d-9072-5156649062c7",
   "metadata": {},
   "outputs": [
    {
     "name": "stdout",
     "output_type": "stream",
     "text": [
      "Calculating LCIA score...\n"
     ]
    },
    {
     "name": "stderr",
     "output_type": "stream",
     "text": [
      "/opt/homebrew/Caskroom/miniforge/base/envs/ab/lib/python3.9/site-packages/scikits/umfpack/umfpack.py:736: UmfpackWarning: (almost) singular matrix! (estimated cond. number: 6.19e+13)\n",
      "  warnings.warn(msg, UmfpackWarning)\n"
     ]
    },
    {
     "data": {
      "text/plain": [
       "'/Users/romain/GitHub/polyviz/examples/wind turbine network connection construction 750kW onshore unit CAQC treemap.html'"
      ]
     },
     "execution_count": 9,
     "metadata": {},
     "output_type": "execute_result"
    }
   ],
   "source": [
    "treemap(\n",
    "    activity=act,\n",
    "    method=('IPCC 2013', 'climate change', 'GWP 100a')\n",
    ")"
   ]
  },
  {
   "cell_type": "markdown",
   "id": "ce54ff7f-0f11-43a1-b606-87a8182dd1f0",
   "metadata": {},
   "source": [
    "# Violin plot\n",
    "Shows uncertainty spread when comparing several systems."
   ]
  },
  {
   "cell_type": "code",
   "execution_count": 14,
   "id": "653169f7-3856-4b4a-8f4d-945e93c632c7",
   "metadata": {},
   "outputs": [
    {
     "data": {
      "text/plain": [
       "\u001b[0;31mSignature:\u001b[0m\n",
       "\u001b[0mviolin\u001b[0m\u001b[0;34m(\u001b[0m\u001b[0;34m\u001b[0m\n",
       "\u001b[0;34m\u001b[0m    \u001b[0mactivities\u001b[0m\u001b[0;34m:\u001b[0m \u001b[0mlist\u001b[0m\u001b[0;34m,\u001b[0m\u001b[0;34m\u001b[0m\n",
       "\u001b[0;34m\u001b[0m    \u001b[0mmethod\u001b[0m\u001b[0;34m:\u001b[0m \u001b[0mtuple\u001b[0m\u001b[0;34m,\u001b[0m\u001b[0;34m\u001b[0m\n",
       "\u001b[0;34m\u001b[0m    \u001b[0miterations\u001b[0m\u001b[0;34m=\u001b[0m\u001b[0;36m100\u001b[0m\u001b[0;34m,\u001b[0m\u001b[0;34m\u001b[0m\n",
       "\u001b[0;34m\u001b[0m    \u001b[0mfilepath\u001b[0m\u001b[0;34m:\u001b[0m \u001b[0mstr\u001b[0m \u001b[0;34m=\u001b[0m \u001b[0;32mNone\u001b[0m\u001b[0;34m,\u001b[0m\u001b[0;34m\u001b[0m\n",
       "\u001b[0;34m\u001b[0m    \u001b[0mtitle\u001b[0m\u001b[0;34m:\u001b[0m \u001b[0mstr\u001b[0m \u001b[0;34m=\u001b[0m \u001b[0;32mNone\u001b[0m\u001b[0;34m,\u001b[0m\u001b[0;34m\u001b[0m\n",
       "\u001b[0;34m\u001b[0m    \u001b[0mnotebook\u001b[0m\u001b[0;34m:\u001b[0m \u001b[0mbool\u001b[0m \u001b[0;34m=\u001b[0m \u001b[0;32mFalse\u001b[0m\u001b[0;34m,\u001b[0m\u001b[0;34m\u001b[0m\n",
       "\u001b[0;34m\u001b[0m\u001b[0;34m)\u001b[0m \u001b[0;34m->\u001b[0m \u001b[0mstr\u001b[0m\u001b[0;34m\u001b[0m\u001b[0;34m\u001b[0m\u001b[0m\n",
       "\u001b[0;31mDocstring:\u001b[0m\n",
       "Generate a Sankey diagram for a given activity and method.\n",
       ":param activity: Brightway2 activity\n",
       ":param method: tuple representing a Brightway2 method\n",
       ":param iterations: Number of iterations for Monte Carlo simulation\n",
       ":param filepath: Path to save the HTML file\n",
       ":param notebook: If True, the HTML file is displayed in the notebook.\n",
       ":param title: Title of the plot\n",
       ":return: Path to the generated HTML file\n",
       "\u001b[0;31mFile:\u001b[0m      ~/GitHub/polyviz/polyviz/violin.py\n",
       "\u001b[0;31mType:\u001b[0m      function"
      ]
     },
     "metadata": {},
     "output_type": "display_data"
    }
   ],
   "source": [
    "violin?"
   ]
  },
  {
   "cell_type": "code",
   "execution_count": null,
   "id": "57c2fe16-366a-47e2-bf18-a8e808c01fca",
   "metadata": {},
   "outputs": [],
   "source": [
    "violin(\n",
    "    activities=[a for a in bw.Database(\"ecoinvent 3.8 cutoff\") if a[\"unit\"] == \"ton kilometer\"][:5],\n",
    "    method=('IPCC 2013', 'climate change', 'GWP 100a'),\n",
    "    iterations=100\n",
    ")"
   ]
  },
  {
   "cell_type": "code",
   "execution_count": null,
   "id": "65d53b58-5997-49f7-9644-3dfb5491c97c",
   "metadata": {},
   "outputs": [],
   "source": [
    "violin(\n",
    "    activities=[a for a in bw.Database(\"ecoinvent 3.8 cutoff\") if a[\"unit\"] == \"person kilometer\"][:5],\n",
    "    method=('IPCC 2013', 'climate change', 'GWP 100a'),\n",
    "    iterations=100\n",
    ")"
   ]
  },
  {
   "cell_type": "code",
   "execution_count": null,
   "id": "44e54ade-4647-4697-8043-9d6f783cfbaa",
   "metadata": {},
   "outputs": [],
   "source": []
  }
 ],
 "metadata": {
  "kernelspec": {
   "display_name": "Python 3 (ipykernel)",
   "language": "python",
   "name": "python3"
  },
  "language_info": {
   "codemirror_mode": {
    "name": "ipython",
    "version": 3
   },
   "file_extension": ".py",
   "mimetype": "text/x-python",
   "name": "python",
   "nbconvert_exporter": "python",
   "pygments_lexer": "ipython3",
   "version": "3.9.15"
  }
 },
 "nbformat": 4,
 "nbformat_minor": 5
}
