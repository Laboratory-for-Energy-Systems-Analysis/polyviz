{
 "cells": [
  {
   "cell_type": "code",
   "execution_count": 1,
   "id": "8a5241f6-74e4-466c-9790-7704b2ced3d1",
   "metadata": {},
   "outputs": [],
   "source": [
    "from d3blocks import D3Blocks\n",
    "from polyviz import sankey, chord, force, violin, choro, treemap\n",
    "import brightway2 as bw\n",
    "bw.projects.set_current(\"new\")"
   ]
  },
  {
   "cell_type": "code",
   "execution_count": 2,
   "id": "f6ca17c9-5527-41f1-982d-e5dabd79dbfb",
   "metadata": {},
   "outputs": [
    {
     "data": {
      "text/plain": [
       "'maintenance, locomotive' (unit, RoW, None)"
      ]
     },
     "execution_count": 2,
     "metadata": {},
     "output_type": "execute_result"
    }
   ],
   "source": [
    "#act = bw.Database(\"ecoinvent 3.8 cutoff\").random()\n",
    "act = [a for a in bw.Database(\"ecoinvent 3.8 cutoff\") if a[\"name\"] == \"maintenance, locomotive\"][0]\n",
    "act"
   ]
  },
  {
   "cell_type": "code",
   "execution_count": 2,
   "id": "17980b13-a441-450b-90f0-755abcbfc5b3",
   "metadata": {},
   "outputs": [
    {
     "data": {
      "text/plain": [
       "'operation, computer, desktop, with cathode ray tube display, active mode' (hour, CH, None)"
      ]
     },
     "execution_count": 2,
     "metadata": {},
     "output_type": "execute_result"
    }
   ],
   "source": [
    "act = bw.Database(\"ecoinvent 3.8 cutoff\").random()\n",
    "act"
   ]
  },
  {
   "cell_type": "code",
   "execution_count": 8,
   "id": "bde3273a-6ac1-4901-bbd4-59a7b3163a96",
   "metadata": {},
   "outputs": [
    {
     "data": {
      "text/plain": [
       "'clinker production' (kilogram, RoW, None)"
      ]
     },
     "execution_count": 8,
     "metadata": {},
     "output_type": "execute_result"
    }
   ],
   "source": [
    "#act = bw.Database(\"ecoinvent 3.8 cutoff\").random()\n",
    "act = [a for a in bw.Database(\"ecoinvent 3.8 cutoff\") if a[\"name\"] == \"clinker production\"][0]\n",
    "act"
   ]
  },
  {
   "cell_type": "code",
   "execution_count": 3,
   "id": "a17a4a8c-37f9-4f4b-b72b-e2e48ca31c60",
   "metadata": {},
   "outputs": [
    {
     "data": {
      "text/plain": [
       "'operation, computer, desktop, with cathode ray tube display, active mode'"
      ]
     },
     "execution_count": 3,
     "metadata": {},
     "output_type": "execute_result"
    }
   ],
   "source": [
    "act[\"reference product\"]"
   ]
  },
  {
   "cell_type": "code",
   "execution_count": 12,
   "id": "de470b74-b3fd-461d-9d8c-61c5fafd247c",
   "metadata": {},
   "outputs": [
    {
     "name": "stdout",
     "output_type": "stream",
     "text": [
      "Calculating LCIA score...\n"
     ]
    },
    {
     "name": "stderr",
     "output_type": "stream",
     "text": [
      "/opt/homebrew/Caskroom/miniforge/base/envs/ab/lib/python3.9/site-packages/scikits/umfpack/umfpack.py:736: UmfpackWarning: (almost) singular matrix! (estimated cond. number: 6.19e+13)\n",
      "  warnings.warn(msg, UmfpackWarning)\n"
     ]
    },
    {
     "data": {
      "text/plain": [
       "'/Users/romain/GitHub/polyviz/dev/electricity high voltage production mix kilowatt hour CAYK IPCC 2013climate changeGWP 100a treemap.html'"
      ]
     },
     "execution_count": 12,
     "metadata": {},
     "output_type": "execute_result"
    }
   ],
   "source": [
    "treemap(\n",
    "    activity=act,\n",
    "    method=('IPCC 2013', 'climate change', 'GWP 100a')\n",
    ")"
   ]
  },
  {
   "cell_type": "code",
   "execution_count": 4,
   "id": "53f0db41-723c-4105-aaba-4bb7ff449aa6",
   "metadata": {},
   "outputs": [
    {
     "name": "stdout",
     "output_type": "stream",
     "text": [
      "Calculating supply chain score...\n"
     ]
    },
    {
     "name": "stderr",
     "output_type": "stream",
     "text": [
      "/opt/homebrew/Caskroom/miniforge/base/envs/ab/lib/python3.9/site-packages/scikits/umfpack/umfpack.py:736: UmfpackWarning: (almost) singular matrix! (estimated cond. number: 6.19e+13)\n",
      "  warnings.warn(msg, UmfpackWarning)\n"
     ]
    },
    {
     "data": {
      "text/plain": [
       "'/Users/romain/GitHub/polyviz/dev/operation computer desktop with cathode ray tube display active mode hour CH IPCC 2013climate changeGWP 100a sankey.html'"
      ]
     },
     "execution_count": 4,
     "metadata": {},
     "output_type": "execute_result"
    }
   ],
   "source": [
    "sankey(\n",
    "    activity=act,\n",
    "    level=3,\n",
    "    cutoff=0.01,\n",
    "    #flow_type=\"kilogram\",\n",
    "    method=('IPCC 2013', 'climate change', 'GWP 100a')\n",
    ")"
   ]
  },
  {
   "cell_type": "code",
   "execution_count": 7,
   "id": "200c4d9c-4267-4631-8602-496c8f95e0cc",
   "metadata": {},
   "outputs": [
    {
     "name": "stdout",
     "output_type": "stream",
     "text": [
      "Calculating LCIA score...\n"
     ]
    },
    {
     "name": "stderr",
     "output_type": "stream",
     "text": [
      "/opt/homebrew/Caskroom/miniforge/base/envs/ab/lib/python3.9/site-packages/scikits/umfpack/umfpack.py:736: UmfpackWarning: (almost) singular matrix! (estimated cond. number: 6.19e+13)\n",
      "  warnings.warn(msg, UmfpackWarning)\n"
     ]
    },
    {
     "data": {
      "text/plain": [
       "'/Users/romain/GitHub/polyviz/dev/maintenance locomotive unit RER treemap.html'"
      ]
     },
     "execution_count": 7,
     "metadata": {},
     "output_type": "execute_result"
    }
   ],
   "source": [
    "treemap(activity=act, method=('IPCC 2013', 'climate change', 'GWP 100a'))"
   ]
  },
  {
   "cell_type": "code",
   "execution_count": 7,
   "id": "8791eb9d-bc55-4fd7-9274-e7aee9e1e27f",
   "metadata": {},
   "outputs": [
    {
     "name": "stderr",
     "output_type": "stream",
     "text": [
      "/opt/homebrew/Caskroom/miniforge/base/envs/ab/lib/python3.9/site-packages/scikits/umfpack/umfpack.py:736: UmfpackWarning: (almost) singular matrix! (estimated cond. number: 6.19e+13)\n",
      "  warnings.warn(msg, UmfpackWarning)\n"
     ]
    },
    {
     "data": {
      "text/plain": [
       "'/Users/romain/GitHub/polyviz/dev/market for seal natural rubber based kilogram GLO choro.html'"
      ]
     },
     "execution_count": 7,
     "metadata": {},
     "output_type": "execute_result"
    }
   ],
   "source": [
    "choro(activity=act, method=('IPCC 2013', 'climate change', 'GWP 100a'))"
   ]
  },
  {
   "cell_type": "code",
   "execution_count": 8,
   "id": "dd5821b7-a302-4355-900b-d0a381cf65cb",
   "metadata": {},
   "outputs": [
    {
     "name": "stdout",
     "output_type": "stream",
     "text": [
      "Calculating supply chain score...\n"
     ]
    },
    {
     "name": "stderr",
     "output_type": "stream",
     "text": [
      "/opt/homebrew/Caskroom/miniforge/base/envs/ab/lib/python3.9/site-packages/scikits/umfpack/umfpack.py:736: UmfpackWarning: (almost) singular matrix! (estimated cond. number: 6.19e+13)\n",
      "  warnings.warn(msg, UmfpackWarning)\n"
     ]
    },
    {
     "data": {
      "text/plain": [
       "'/Users/romain/GitHub/polyviz/dev/maintenance locomotive unit RER chord.html'"
      ]
     },
     "execution_count": 8,
     "metadata": {},
     "output_type": "execute_result"
    }
   ],
   "source": [
    "chord(\n",
    "    activity=act,\n",
    "    level=5,\n",
    "    cutoff=0.01,\n",
    "    #flow_type=\"kilowatt hour\",\n",
    "    method=('IPCC 2013', 'climate change', 'GWP 100a')\n",
    ")"
   ]
  },
  {
   "cell_type": "code",
   "execution_count": 4,
   "id": "4385b387-6cd6-4353-928b-11fa839e3933",
   "metadata": {},
   "outputs": [
    {
     "name": "stderr",
     "output_type": "stream",
     "text": [
      "/opt/homebrew/Caskroom/miniforge/base/envs/ab/lib/python3.9/site-packages/scikits/umfpack/umfpack.py:736: UmfpackWarning: (almost) singular matrix! (estimated cond. number: 6.19e+13)\n",
      "  warnings.warn(msg, UmfpackWarning)\n"
     ]
    },
    {
     "name": "stdout",
     "output_type": "stream",
     "text": [
      "kilowatt hour kilowatt hour\n",
      "kilowatt hour kilowatt hour\n",
      "kilowatt hour kilowatt hour\n",
      "kilowatt hour kilowatt hour\n",
      "kilowatt hour kilowatt hour\n",
      "kilowatt hour kilowatt hour\n",
      "kilowatt hour kilowatt hour\n",
      "kilowatt hour kilowatt hour\n",
      "kilowatt hour kilowatt hour\n",
      "kilowatt hour kilowatt hour\n",
      "kilowatt hour kilowatt hour\n",
      "kilowatt hour kilowatt hour\n",
      "kilowatt hour kilowatt hour\n",
      "kilowatt hour kilowatt hour\n",
      "kilowatt hour kilowatt hour\n",
      "kilowatt hour kilowatt hour\n"
     ]
    },
    {
     "data": {
      "text/plain": [
       "'/Users/romain/GitHub/polyviz/dev/market for electricity low voltage kilowatt hour MK chord.html'"
      ]
     },
     "execution_count": 4,
     "metadata": {},
     "output_type": "execute_result"
    }
   ],
   "source": [
    "chord(activity=act, flow_type=\"kilowatt hour\", level=5)"
   ]
  },
  {
   "cell_type": "code",
   "execution_count": 2,
   "id": "dec1c710-46aa-4fd2-b964-114e4f289871",
   "metadata": {},
   "outputs": [
    {
     "name": "stderr",
     "output_type": "stream",
     "text": [
      "/opt/homebrew/Caskroom/miniforge/base/envs/ab/lib/python3.9/site-packages/scikits/umfpack/umfpack.py:736: UmfpackWarning: (almost) singular matrix! (estimated cond. number: 2.36e+14)\n",
      "  warnings.warn(msg, UmfpackWarning)\n",
      "/opt/homebrew/Caskroom/miniforge/base/envs/ab/lib/python3.9/site-packages/scikits/umfpack/umfpack.py:736: UmfpackWarning: (almost) singular matrix! (estimated cond. number: 4.38e+13)\n",
      "  warnings.warn(msg, UmfpackWarning)\n"
     ]
    },
    {
     "data": {
      "text/plain": [
       "'/Users/romain/GitHub/polyviz/dev/transport CH vs market for GLO vs transport DE vs market for GLO violin.html'"
      ]
     },
     "execution_count": 2,
     "metadata": {},
     "output_type": "execute_result"
    }
   ],
   "source": [
    "violin(\n",
    "    activities=[a for a in bw.Database(\"ecoinvent 3.8 cutoff\") if a[\"unit\"] == \"person kilometer\"][:4],\n",
    "    method=('IPCC 2013', 'climate change', 'GWP 100a'),\n",
    "    iterations=2\n",
    ")"
   ]
  },
  {
   "cell_type": "code",
   "execution_count": 6,
   "id": "658dfaeb-9ce3-40ca-9bab-9e8be00e7ea0",
   "metadata": {},
   "outputs": [
    {
     "name": "stderr",
     "output_type": "stream",
     "text": [
      "[d3blocks] >INFO> Created LCA object\n",
      "/opt/homebrew/Caskroom/miniforge/base/envs/ab/lib/python3.9/site-packages/scikits/umfpack/umfpack.py:736: UmfpackWarning: (almost) singular matrix! (estimated cond. number: 6.19e+13)\n",
      "  warnings.warn(msg, UmfpackWarning)\n",
      "[d3blocks] >INFO> Redoing LCI\n",
      "[d3blocks] >INFO> Redoing LCIA\n",
      "[d3blocks] >INFO> Redoing LCI\n",
      "[d3blocks] >INFO> Redoing LCIA\n",
      "[d3blocks] >INFO> Redoing LCI\n",
      "[d3blocks] >INFO> Redoing LCIA\n",
      "[d3blocks] >INFO> Redoing LCI\n",
      "[d3blocks] >INFO> Redoing LCIA\n",
      "[d3blocks] >INFO> Redoing LCI\n",
      "[d3blocks] >INFO> Redoing LCIA\n",
      "[d3blocks] >INFO> Redoing LCI\n",
      "[d3blocks] >INFO> Redoing LCIA\n",
      "[d3blocks] >INFO> Redoing LCI\n",
      "[d3blocks] >INFO> Redoing LCIA\n",
      "[d3blocks] >INFO> Redoing LCI\n",
      "[d3blocks] >INFO> Redoing LCIA\n",
      "[d3blocks] >INFO> Redoing LCI\n",
      "[d3blocks] >INFO> Redoing LCIA\n",
      "[d3blocks] >INFO> Redoing LCI\n",
      "[d3blocks] >INFO> Redoing LCIA\n",
      "[d3blocks] >INFO> Redoing LCI\n",
      "[d3blocks] >INFO> Redoing LCIA\n",
      "[d3blocks] >INFO> Redoing LCI\n",
      "[d3blocks] >INFO> Redoing LCIA\n",
      "[d3blocks] >INFO> Redoing LCI\n",
      "[d3blocks] >INFO> Redoing LCIA\n",
      "[d3blocks] >INFO> Redoing LCI\n",
      "[d3blocks] >INFO> Redoing LCIA\n",
      "[d3blocks] >INFO> Redoing LCI\n",
      "[d3blocks] >INFO> Redoing LCIA\n",
      "[d3blocks] >INFO> Redoing LCI\n",
      "[d3blocks] >INFO> Redoing LCIA\n",
      "[d3blocks] >INFO> Redoing LCI\n",
      "[d3blocks] >INFO> Redoing LCIA\n",
      "[d3blocks] >INFO> Redoing LCI\n",
      "[d3blocks] >INFO> Redoing LCIA\n",
      "[d3blocks] >INFO> Redoing LCI\n",
      "[d3blocks] >INFO> Redoing LCIA\n",
      "[d3blocks] >INFO> Redoing LCI\n",
      "[d3blocks] >INFO> Redoing LCIA\n",
      "[d3blocks] >INFO> Redoing LCI\n",
      "[d3blocks] >INFO> Redoing LCIA\n",
      "[d3blocks] >INFO> Redoing LCI\n",
      "[d3blocks] >INFO> Redoing LCIA\n",
      "[d3blocks] >INFO> Redoing LCI\n",
      "[d3blocks] >INFO> Redoing LCIA\n",
      "[d3blocks] >INFO> Redoing LCI\n",
      "[d3blocks] >INFO> Redoing LCIA\n",
      "[d3blocks] >INFO> Redoing LCI\n",
      "[d3blocks] >INFO> Redoing LCIA\n",
      "[d3blocks] >INFO> Redoing LCI\n",
      "[d3blocks] >INFO> Redoing LCIA\n",
      "[d3blocks] >INFO> Redoing LCI\n",
      "[d3blocks] >INFO> Redoing LCIA\n",
      "[d3blocks] >INFO> Redoing LCI\n",
      "[d3blocks] >INFO> Redoing LCIA\n",
      "[d3blocks] >INFO> Redoing LCI\n",
      "[d3blocks] >INFO> Redoing LCIA\n",
      "[d3blocks] >INFO> Redoing LCI\n",
      "[d3blocks] >INFO> Redoing LCIA\n",
      "[d3blocks] >INFO> Redoing LCI\n",
      "[d3blocks] >INFO> Redoing LCIA\n",
      "[d3blocks] >INFO> Redoing LCI\n",
      "[d3blocks] >INFO> Redoing LCIA\n",
      "[d3blocks] >INFO> Redoing LCI\n",
      "[d3blocks] >INFO> Redoing LCIA\n",
      "[d3blocks] >INFO> Redoing LCI\n",
      "[d3blocks] >INFO> Redoing LCIA\n",
      "[d3blocks] >INFO> Redoing LCI\n",
      "[d3blocks] >INFO> Redoing LCIA\n",
      "[d3blocks] >INFO> Redoing LCI\n",
      "[d3blocks] >INFO> Redoing LCIA\n",
      "[d3blocks] >INFO> Redoing LCI\n",
      "[d3blocks] >INFO> Redoing LCIA\n",
      "[d3blocks] >INFO> Redoing LCI\n",
      "[d3blocks] >INFO> Redoing LCIA\n",
      "[d3blocks] >INFO> Redoing LCI\n",
      "[d3blocks] >INFO> Redoing LCIA\n",
      "[d3blocks] >INFO> Redoing LCI\n",
      "[d3blocks] >INFO> Redoing LCIA\n",
      "[d3blocks] >INFO> Redoing LCI\n",
      "[d3blocks] >INFO> Redoing LCIA\n",
      "[d3blocks] >INFO> Redoing LCI\n",
      "[d3blocks] >INFO> Redoing LCIA\n",
      "[d3blocks] >INFO> Redoing LCI\n",
      "[d3blocks] >INFO> Redoing LCIA\n",
      "[d3blocks] >INFO> Redoing LCI\n",
      "[d3blocks] >INFO> Redoing LCIA\n",
      "[d3blocks] >INFO> Redoing LCI\n",
      "[d3blocks] >INFO> Redoing LCIA\n",
      "[d3blocks] >INFO> Redoing LCI\n",
      "[d3blocks] >INFO> Redoing LCIA\n",
      "[d3blocks] >INFO> Redoing LCI\n",
      "[d3blocks] >INFO> Redoing LCIA\n",
      "[d3blocks] >INFO> Redoing LCI\n",
      "[d3blocks] >INFO> Redoing LCIA\n",
      "[d3blocks] >INFO> Redoing LCI\n",
      "[d3blocks] >INFO> Redoing LCIA\n",
      "[d3blocks] >INFO> Redoing LCI\n",
      "[d3blocks] >INFO> Redoing LCIA\n",
      "[d3blocks] >INFO> Redoing LCI\n",
      "[d3blocks] >INFO> Redoing LCIA\n",
      "[d3blocks] >INFO> Redoing LCI\n",
      "[d3blocks] >INFO> Redoing LCIA\n",
      "[d3blocks] >INFO> Redoing LCI\n",
      "[d3blocks] >INFO> Redoing LCIA\n",
      "[d3blocks] >INFO> Redoing LCI\n",
      "[d3blocks] >INFO> Redoing LCIA\n",
      "[d3blocks] >INFO> Redoing LCI\n",
      "[d3blocks] >INFO> Redoing LCIA\n",
      "[d3blocks] >INFO> Redoing LCI\n",
      "[d3blocks] >INFO> Redoing LCIA\n",
      "[d3blocks] >INFO> Redoing LCI\n",
      "[d3blocks] >INFO> Redoing LCIA\n",
      "[d3blocks] >INFO> Redoing LCI\n",
      "[d3blocks] >INFO> Redoing LCIA\n",
      "[d3blocks] >INFO> Redoing LCI\n",
      "[d3blocks] >INFO> Redoing LCIA\n",
      "[d3blocks] >INFO> Redoing LCI\n",
      "[d3blocks] >INFO> Redoing LCIA\n",
      "[d3blocks] >INFO> Redoing LCI\n",
      "[d3blocks] >INFO> Redoing LCIA\n",
      "[d3blocks] >INFO> Redoing LCI\n",
      "[d3blocks] >INFO> Redoing LCIA\n",
      "[d3blocks] >INFO> Redoing LCI\n",
      "[d3blocks] >INFO> Redoing LCIA\n",
      "[d3blocks] >INFO> Redoing LCI\n",
      "[d3blocks] >INFO> Redoing LCIA\n",
      "[d3blocks] >INFO> Redoing LCI\n",
      "[d3blocks] >INFO> Redoing LCIA\n",
      "[d3blocks] >INFO> Redoing LCI\n",
      "[d3blocks] >INFO> Redoing LCIA\n",
      "[d3blocks] >INFO> Redoing LCI\n",
      "[d3blocks] >INFO> Redoing LCIA\n",
      "[d3blocks] >INFO> Redoing LCI\n",
      "[d3blocks] >INFO> Redoing LCIA\n",
      "[d3blocks] >INFO> Redoing LCI\n",
      "[d3blocks] >INFO> Redoing LCIA\n",
      "[d3blocks] >INFO> Redoing LCI\n",
      "[d3blocks] >INFO> Redoing LCIA\n",
      "[d3blocks] >INFO> Redoing LCI\n",
      "[d3blocks] >INFO> Redoing LCIA\n",
      "[d3blocks] >INFO> Redoing LCI\n",
      "[d3blocks] >INFO> Redoing LCIA\n",
      "[d3blocks] >INFO> Redoing LCI\n",
      "[d3blocks] >INFO> Redoing LCIA\n",
      "[d3blocks] >INFO> Redoing LCI\n",
      "[d3blocks] >INFO> Redoing LCIA\n",
      "[d3blocks] >INFO> Redoing LCI\n",
      "[d3blocks] >INFO> Redoing LCIA\n",
      "[d3blocks] >INFO> Redoing LCI\n",
      "[d3blocks] >INFO> Redoing LCIA\n",
      "[d3blocks] >INFO> Redoing LCI\n",
      "[d3blocks] >INFO> Redoing LCIA\n",
      "[d3blocks] >INFO> Redoing LCI\n",
      "[d3blocks] >INFO> Redoing LCIA\n",
      "[d3blocks] >INFO> Redoing LCI\n",
      "[d3blocks] >INFO> Redoing LCIA\n",
      "[d3blocks] >INFO> Redoing LCI\n",
      "[d3blocks] >INFO> Redoing LCIA\n",
      "[d3blocks] >INFO> Redoing LCI\n",
      "[d3blocks] >INFO> Redoing LCIA\n",
      "[d3blocks] >INFO> Redoing LCI\n",
      "[d3blocks] >INFO> Redoing LCIA\n",
      "[d3blocks] >INFO> Redoing LCI\n",
      "[d3blocks] >INFO> Redoing LCIA\n",
      "[d3blocks] >INFO> Redoing LCI\n",
      "[d3blocks] >INFO> Redoing LCIA\n",
      "[d3blocks] >INFO> Redoing LCI\n",
      "[d3blocks] >INFO> Redoing LCIA\n",
      "[d3blocks] >INFO> Redoing LCI\n",
      "[d3blocks] >INFO> Redoing LCIA\n",
      "[d3blocks] >INFO> Redoing LCI\n",
      "[d3blocks] >INFO> Redoing LCIA\n",
      "[d3blocks] >INFO> Redoing LCI\n",
      "[d3blocks] >INFO> Redoing LCIA\n",
      "[d3blocks] >INFO> Redoing LCI\n",
      "[d3blocks] >INFO> Redoing LCIA\n",
      "[d3blocks] >INFO> Redoing LCI\n",
      "[d3blocks] >INFO> Redoing LCIA\n",
      "[d3blocks] >INFO> Redoing LCI\n",
      "[d3blocks] >INFO> Redoing LCIA\n",
      "[d3blocks] >INFO> Redoing LCI\n",
      "[d3blocks] >INFO> Redoing LCIA\n",
      "[d3blocks] >INFO> Redoing LCI\n",
      "[d3blocks] >INFO> Redoing LCIA\n",
      "[d3blocks] >INFO> Redoing LCI\n",
      "[d3blocks] >INFO> Redoing LCIA\n",
      "[d3blocks] >INFO> Redoing LCI\n",
      "[d3blocks] >INFO> Redoing LCIA\n",
      "[d3blocks] >INFO> Redoing LCI\n",
      "[d3blocks] >INFO> Redoing LCIA\n",
      "[d3blocks] >INFO> Redoing LCI\n",
      "[d3blocks] >INFO> Redoing LCIA\n",
      "[d3blocks] >INFO> Redoing LCI\n",
      "[d3blocks] >INFO> Redoing LCIA\n",
      "[d3blocks] >INFO> Redoing LCI\n",
      "[d3blocks] >INFO> Redoing LCIA\n",
      "[d3blocks] >INFO> Redoing LCI\n",
      "[d3blocks] >INFO> Redoing LCIA\n",
      "[d3blocks] >INFO> Redoing LCI\n",
      "[d3blocks] >INFO> Redoing LCIA\n",
      "[d3blocks] >INFO> Redoing LCI\n",
      "[d3blocks] >INFO> Redoing LCIA\n",
      "[d3blocks] >INFO> Redoing LCI\n",
      "[d3blocks] >INFO> Redoing LCIA\n",
      "[d3blocks] >INFO> Redoing LCI\n",
      "[d3blocks] >INFO> Redoing LCIA\n",
      "[d3blocks] >INFO> Redoing LCI\n",
      "[d3blocks] >INFO> Redoing LCIA\n",
      "[d3blocks] >INFO> Redoing LCI\n",
      "[d3blocks] >INFO> Redoing LCIA\n",
      "[d3blocks] >INFO> Redoing LCI\n",
      "[d3blocks] >INFO> Redoing LCIA\n",
      "[d3blocks] >INFO> Redoing LCI\n",
      "[d3blocks] >INFO> Redoing LCIA\n",
      "[d3blocks] >INFO> Redoing LCI\n",
      "[d3blocks] >INFO> Redoing LCIA\n",
      "[d3blocks] >INFO> Redoing LCI\n",
      "[d3blocks] >INFO> Redoing LCIA\n",
      "[d3blocks] >INFO> Redoing LCI\n",
      "[d3blocks] >INFO> Redoing LCIA\n",
      "[d3blocks] >INFO> Redoing LCI\n",
      "[d3blocks] >INFO> Redoing LCIA\n",
      "[d3blocks] >INFO> Redoing LCI\n",
      "[d3blocks] >INFO> Redoing LCIA\n",
      "[d3blocks] >INFO> Redoing LCI\n",
      "[d3blocks] >INFO> Redoing LCIA\n",
      "[d3blocks] >INFO> Redoing LCI\n",
      "[d3blocks] >INFO> Redoing LCIA\n",
      "[d3blocks] >INFO> Redoing LCI\n",
      "[d3blocks] >INFO> Redoing LCIA\n",
      "[d3blocks] >INFO> Redoing LCI\n",
      "[d3blocks] >INFO> Redoing LCIA\n",
      "[d3blocks] >INFO> Redoing LCI\n",
      "[d3blocks] >INFO> Redoing LCIA\n",
      "[d3blocks] >INFO> Redoing LCI\n",
      "[d3blocks] >INFO> Redoing LCIA\n",
      "[d3blocks] >INFO> Redoing LCI\n",
      "[d3blocks] >INFO> Redoing LCIA\n",
      "[d3blocks] >INFO> Redoing LCI\n",
      "[d3blocks] >INFO> Redoing LCIA\n",
      "[d3blocks] >INFO> Redoing LCI\n",
      "[d3blocks] >INFO> Redoing LCIA\n",
      "[d3blocks] >INFO> Redoing LCI\n",
      "[d3blocks] >INFO> Redoing LCIA\n",
      "[d3blocks] >INFO> Redoing LCI\n",
      "[d3blocks] >INFO> Redoing LCIA\n",
      "[d3blocks] >INFO> Redoing LCI\n",
      "[d3blocks] >INFO> Redoing LCIA\n",
      "[d3blocks] >INFO> Redoing LCI\n",
      "[d3blocks] >INFO> Redoing LCIA\n",
      "[d3blocks] >INFO> Redoing LCI\n",
      "[d3blocks] >INFO> Redoing LCIA\n",
      "[d3blocks] >INFO> Redoing LCI\n",
      "[d3blocks] >INFO> Redoing LCIA\n",
      "[d3blocks] >INFO> Redoing LCI\n",
      "[d3blocks] >INFO> Redoing LCIA\n",
      "[d3blocks] >INFO> Redoing LCI\n",
      "[d3blocks] >INFO> Redoing LCIA\n",
      "[d3blocks] >INFO> Redoing LCI\n",
      "[d3blocks] >INFO> Redoing LCIA\n",
      "[d3blocks] >INFO> Redoing LCI\n",
      "[d3blocks] >INFO> Redoing LCIA\n",
      "[d3blocks] >INFO> Redoing LCI\n",
      "[d3blocks] >INFO> Redoing LCIA\n",
      "[d3blocks] >INFO> Redoing LCI\n",
      "[d3blocks] >INFO> Redoing LCIA\n",
      "[d3blocks] >INFO> Redoing LCI\n",
      "[d3blocks] >INFO> Redoing LCIA\n",
      "[d3blocks] >INFO> Redoing LCI\n",
      "[d3blocks] >INFO> Redoing LCIA\n",
      "[d3blocks] >INFO> Redoing LCI\n",
      "[d3blocks] >INFO> Redoing LCIA\n",
      "[d3blocks] >INFO> Redoing LCI\n",
      "[d3blocks] >INFO> Redoing LCIA\n",
      "[d3blocks] >INFO> Redoing LCI\n",
      "[d3blocks] >INFO> Redoing LCIA\n",
      "[d3blocks] >INFO> Redoing LCI\n",
      "[d3blocks] >INFO> Redoing LCIA\n",
      "[d3blocks] >INFO> Redoing LCI\n",
      "[d3blocks] >INFO> Redoing LCIA\n",
      "[d3blocks] >INFO> Redoing LCI\n",
      "[d3blocks] >INFO> Redoing LCIA\n",
      "[d3blocks] >INFO> Redoing LCI\n",
      "[d3blocks] >INFO> Redoing LCIA\n",
      "[d3blocks] >INFO> Redoing LCI\n",
      "[d3blocks] >INFO> Redoing LCIA\n",
      "[d3blocks] >INFO> Redoing LCI\n",
      "[d3blocks] >INFO> Redoing LCIA\n",
      "[d3blocks] >INFO> Redoing LCI\n",
      "[d3blocks] >INFO> Redoing LCIA\n",
      "[d3blocks] >INFO> Redoing LCI\n",
      "[d3blocks] >INFO> Redoing LCIA\n",
      "[d3blocks] >INFO> Redoing LCI\n",
      "[d3blocks] >INFO> Redoing LCIA\n",
      "[d3blocks] >INFO> Redoing LCI\n",
      "[d3blocks] >INFO> Redoing LCIA\n",
      "[d3blocks] >INFO> Redoing LCI\n",
      "[d3blocks] >INFO> Redoing LCIA\n",
      "[d3blocks] >INFO> Redoing LCI\n",
      "[d3blocks] >INFO> Redoing LCIA\n",
      "[d3blocks] >INFO> Redoing LCI\n",
      "[d3blocks] >INFO> Redoing LCIA\n",
      "[d3blocks] >INFO> Redoing LCI\n",
      "[d3blocks] >INFO> Redoing LCIA\n",
      "[d3blocks] >INFO> Redoing LCI\n",
      "[d3blocks] >INFO> Redoing LCIA\n",
      "[d3blocks] >INFO> Redoing LCI\n",
      "[d3blocks] >INFO> Redoing LCIA\n",
      "[d3blocks] >INFO> Redoing LCI\n",
      "[d3blocks] >INFO> Redoing LCIA\n",
      "[d3blocks] >INFO> Redoing LCI\n",
      "[d3blocks] >INFO> Redoing LCIA\n",
      "[d3blocks] >INFO> Redoing LCI\n",
      "[d3blocks] >INFO> Redoing LCIA\n",
      "[d3blocks] >INFO> Redoing LCI\n",
      "[d3blocks] >INFO> Redoing LCIA\n",
      "[d3blocks] >INFO> Redoing LCI\n",
      "[d3blocks] >INFO> Redoing LCIA\n",
      "[d3blocks] >INFO> Redoing LCI\n",
      "[d3blocks] >INFO> Redoing LCIA\n",
      "[d3blocks] >INFO> Redoing LCI\n",
      "[d3blocks] >INFO> Redoing LCIA\n",
      "[d3blocks] >INFO> Redoing LCI\n",
      "[d3blocks] >INFO> Redoing LCIA\n",
      "[d3blocks] >INFO> Redoing LCI\n",
      "[d3blocks] >INFO> Redoing LCIA\n",
      "[d3blocks] >INFO> Redoing LCI\n",
      "[d3blocks] >INFO> Redoing LCIA\n",
      "[d3blocks] >INFO> Redoing LCI\n",
      "[d3blocks] >INFO> Redoing LCIA\n",
      "[d3blocks] >INFO> Redoing LCI\n",
      "[d3blocks] >INFO> Redoing LCIA\n",
      "[d3blocks] >INFO> Redoing LCI\n",
      "[d3blocks] >INFO> Redoing LCIA\n",
      "[d3blocks] >INFO> Redoing LCI\n",
      "[d3blocks] >INFO> Redoing LCIA\n",
      "[d3blocks] >INFO> Redoing LCI\n",
      "[d3blocks] >INFO> Redoing LCIA\n",
      "[d3blocks] >INFO> Redoing LCI\n",
      "[d3blocks] >INFO> Redoing LCIA\n",
      "[d3blocks] >INFO> Redoing LCI\n",
      "[d3blocks] >INFO> Redoing LCIA\n",
      "[d3blocks] >INFO> Redoing LCI\n",
      "[d3blocks] >INFO> Redoing LCIA\n",
      "[d3blocks] >INFO> Redoing LCI\n",
      "[d3blocks] >INFO> Redoing LCIA\n",
      "[d3blocks] >INFO> Redoing LCI\n",
      "[d3blocks] >INFO> Redoing LCIA\n",
      "[d3blocks] >INFO> Redoing LCI\n",
      "[d3blocks] >INFO> Redoing LCIA\n",
      "[d3blocks] >INFO> Redoing LCI\n",
      "[d3blocks] >INFO> Redoing LCIA\n",
      "[d3blocks] >INFO> Redoing LCI\n",
      "[d3blocks] >INFO> Redoing LCIA\n",
      "[d3blocks] >INFO> Redoing LCI\n",
      "[d3blocks] >INFO> Redoing LCIA\n",
      "[d3blocks] >INFO> Redoing LCI\n",
      "[d3blocks] >INFO> Redoing LCIA\n",
      "[d3blocks] >INFO> Redoing LCI\n",
      "[d3blocks] >INFO> Redoing LCIA\n",
      "[d3blocks] >INFO> Redoing LCI\n",
      "[d3blocks] >INFO> Redoing LCIA\n",
      "[d3blocks] >INFO> Redoing LCI\n",
      "[d3blocks] >INFO> Redoing LCIA\n",
      "[d3blocks] >INFO> Redoing LCI\n",
      "[d3blocks] >INFO> Redoing LCIA\n",
      "[d3blocks] >INFO> Redoing LCI\n",
      "[d3blocks] >INFO> Redoing LCIA\n",
      "[d3blocks] >INFO> Redoing LCI\n",
      "[d3blocks] >INFO> Redoing LCIA\n",
      "[d3blocks] >INFO> Redoing LCI\n",
      "[d3blocks] >INFO> Redoing LCIA\n",
      "[d3blocks] >INFO> Redoing LCI\n",
      "[d3blocks] >INFO> Redoing LCIA\n",
      "[d3blocks] >INFO> Redoing LCI\n",
      "[d3blocks] >INFO> Redoing LCIA\n",
      "[d3blocks] >INFO> Redoing LCI\n",
      "[d3blocks] >INFO> Redoing LCIA\n",
      "[d3blocks] >INFO> Redoing LCI\n",
      "[d3blocks] >INFO> Redoing LCIA\n",
      "[d3blocks] >INFO> Redoing LCI\n",
      "[d3blocks] >INFO> Redoing LCIA\n",
      "[d3blocks] >INFO> Redoing LCI\n",
      "[d3blocks] >INFO> Redoing LCIA\n",
      "[d3blocks] >INFO> Redoing LCI\n",
      "[d3blocks] >INFO> Redoing LCIA\n",
      "[d3blocks] >INFO> Redoing LCI\n",
      "[d3blocks] >INFO> Redoing LCIA\n",
      "[d3blocks] >INFO> Redoing LCI\n",
      "[d3blocks] >INFO> Redoing LCIA\n",
      "[d3blocks] >INFO> Redoing LCI\n",
      "[d3blocks] >INFO> Redoing LCIA\n",
      "[d3blocks] >INFO> Redoing LCI\n",
      "[d3blocks] >INFO> Redoing LCIA\n",
      "[d3blocks] >INFO> Redoing LCI\n",
      "[d3blocks] >INFO> Redoing LCIA\n",
      "[d3blocks] >INFO> Redoing LCI\n",
      "[d3blocks] >INFO> Redoing LCIA\n",
      "[d3blocks] >INFO> Redoing LCI\n",
      "[d3blocks] >INFO> Redoing LCIA\n",
      "[d3blocks] >INFO> Redoing LCI\n",
      "[d3blocks] >INFO> Redoing LCIA\n",
      "[d3blocks] >INFO> Redoing LCI\n",
      "[d3blocks] >INFO> Redoing LCIA\n",
      "[d3blocks] >INFO> Redoing LCI\n",
      "[d3blocks] >INFO> Redoing LCIA\n",
      "[d3blocks] >INFO> Redoing LCI\n",
      "[d3blocks] >INFO> Redoing LCIA\n",
      "[d3blocks] >INFO> Redoing LCI\n",
      "[d3blocks] >INFO> Redoing LCIA\n",
      "[d3blocks] >INFO> Redoing LCI\n",
      "[d3blocks] >INFO> Redoing LCIA\n",
      "[d3blocks] >INFO> Redoing LCI\n",
      "[d3blocks] >INFO> Redoing LCIA\n",
      "[d3blocks] >INFO> Redoing LCI\n",
      "[d3blocks] >INFO> Redoing LCIA\n",
      "[d3blocks] >INFO> Redoing LCI\n",
      "[d3blocks] >INFO> Redoing LCIA\n",
      "[d3blocks] >INFO> Redoing LCI\n",
      "[d3blocks] >INFO> Redoing LCIA\n",
      "[d3blocks] >INFO> Redoing LCI\n",
      "[d3blocks] >INFO> Redoing LCIA\n",
      "[d3blocks] >INFO> Redoing LCI\n",
      "[d3blocks] >INFO> Redoing LCIA\n",
      "[d3blocks] >INFO> Redoing LCI\n",
      "[d3blocks] >INFO> Redoing LCIA\n",
      "[d3blocks] >INFO> Redoing LCI\n",
      "[d3blocks] >INFO> Redoing LCIA\n",
      "[d3blocks] >INFO> Redoing LCI\n",
      "[d3blocks] >INFO> Redoing LCIA\n",
      "[d3blocks] >INFO> Redoing LCI\n",
      "[d3blocks] >INFO> Redoing LCIA\n",
      "[d3blocks] >INFO> Redoing LCI\n",
      "[d3blocks] >INFO> Redoing LCIA\n",
      "[d3blocks] >INFO> Redoing LCI\n",
      "[d3blocks] >INFO> Redoing LCIA\n",
      "[d3blocks] >INFO> Redoing LCI\n",
      "[d3blocks] >INFO> Redoing LCIA\n",
      "[d3blocks] >INFO> Redoing LCI\n",
      "[d3blocks] >INFO> Redoing LCIA\n",
      "[d3blocks] >INFO> Redoing LCI\n",
      "[d3blocks] >INFO> Redoing LCIA\n",
      "[d3blocks] >INFO> Redoing LCI\n",
      "[d3blocks] >INFO> Redoing LCIA\n",
      "[d3blocks] >INFO> Redoing LCI\n",
      "[d3blocks] >INFO> Redoing LCIA\n",
      "[d3blocks] >INFO> Redoing LCI\n",
      "[d3blocks] >INFO> Redoing LCIA\n",
      "[d3blocks] >INFO> Redoing LCI\n",
      "[d3blocks] >INFO> Redoing LCIA\n",
      "[d3blocks] >INFO> Redoing LCI\n",
      "[d3blocks] >INFO> Redoing LCIA\n",
      "[d3blocks] >INFO> Redoing LCI\n",
      "[d3blocks] >INFO> Redoing LCIA\n",
      "[d3blocks] >INFO> Redoing LCI\n",
      "[d3blocks] >INFO> Redoing LCIA\n",
      "[d3blocks] >INFO> Redoing LCI\n",
      "[d3blocks] >INFO> Redoing LCIA\n",
      "[d3blocks] >INFO> Redoing LCI\n",
      "[d3blocks] >INFO> Redoing LCIA\n",
      "[d3blocks] >INFO> Redoing LCI\n",
      "[d3blocks] >INFO> Redoing LCIA\n",
      "[d3blocks] >INFO> Redoing LCI\n",
      "[d3blocks] >INFO> Redoing LCIA\n",
      "[d3blocks] >INFO> Redoing LCI\n",
      "[d3blocks] >INFO> Redoing LCIA\n",
      "[d3blocks] >INFO> Redoing LCI\n",
      "[d3blocks] >INFO> Redoing LCIA\n",
      "[d3blocks] >INFO> Redoing LCI\n",
      "[d3blocks] >INFO> Redoing LCIA\n",
      "[d3blocks] >INFO> Redoing LCI\n",
      "[d3blocks] >INFO> Redoing LCIA\n",
      "[d3blocks] >INFO> Redoing LCI\n",
      "[d3blocks] >INFO> Redoing LCIA\n",
      "[d3blocks] >INFO> Redoing LCI\n",
      "[d3blocks] >INFO> Redoing LCIA\n",
      "[d3blocks] >INFO> Redoing LCI\n",
      "[d3blocks] >INFO> Redoing LCIA\n",
      "[d3blocks] >INFO> Redoing LCI\n",
      "[d3blocks] >INFO> Redoing LCIA\n",
      "[d3blocks] >INFO> Redoing LCI\n",
      "[d3blocks] >INFO> Redoing LCIA\n",
      "[d3blocks] >INFO> Redoing LCI\n",
      "[d3blocks] >INFO> Redoing LCIA\n",
      "[d3blocks] >INFO> Redoing LCI\n",
      "[d3blocks] >INFO> Redoing LCIA\n",
      "[d3blocks] >INFO> Redoing LCI\n",
      "[d3blocks] >INFO> Redoing LCIA\n",
      "[d3blocks] >INFO> Redoing LCI\n",
      "[d3blocks] >INFO> Redoing LCIA\n",
      "[d3blocks] >INFO> Redoing LCI\n",
      "[d3blocks] >INFO> Redoing LCIA\n",
      "[d3blocks] >INFO> Redoing LCI\n",
      "[d3blocks] >INFO> Redoing LCIA\n",
      "[d3blocks] >INFO> Redoing LCI\n",
      "[d3blocks] >INFO> Redoing LCIA\n",
      "[d3blocks] >INFO> Redoing LCI\n",
      "[d3blocks] >INFO> Redoing LCIA\n",
      "[d3blocks] >INFO> Redoing LCI\n",
      "[d3blocks] >INFO> Redoing LCIA\n",
      "[d3blocks] >INFO> Redoing LCI\n",
      "[d3blocks] >INFO> Redoing LCIA\n",
      "[d3blocks] >INFO> Redoing LCI\n",
      "[d3blocks] >INFO> Redoing LCIA\n",
      "[d3blocks] >INFO> Redoing LCI\n",
      "[d3blocks] >INFO> Redoing LCIA\n",
      "[d3blocks] >INFO> Redoing LCI\n",
      "[d3blocks] >INFO> Redoing LCIA\n",
      "[d3blocks] >INFO> Redoing LCI\n",
      "[d3blocks] >INFO> Redoing LCIA\n",
      "[d3blocks] >INFO> Redoing LCI\n",
      "[d3blocks] >INFO> Redoing LCIA\n",
      "[d3blocks] >INFO> Redoing LCI\n",
      "[d3blocks] >INFO> Redoing LCIA\n",
      "[d3blocks] >INFO> Redoing LCI\n",
      "[d3blocks] >INFO> Redoing LCIA\n",
      "[d3blocks] >INFO> Redoing LCI\n",
      "[d3blocks] >INFO> Redoing LCIA\n",
      "[d3blocks] >INFO> Redoing LCI\n",
      "[d3blocks] >INFO> Redoing LCIA\n",
      "[d3blocks] >INFO> Redoing LCI\n",
      "[d3blocks] >INFO> Redoing LCIA\n",
      "[d3blocks] >INFO> Redoing LCI\n",
      "[d3blocks] >INFO> Redoing LCIA\n",
      "[d3blocks] >INFO> Redoing LCI\n",
      "[d3blocks] >INFO> Redoing LCIA\n",
      "[d3blocks] >INFO> Redoing LCI\n",
      "[d3blocks] >INFO> Redoing LCIA\n",
      "[d3blocks] >INFO> Redoing LCI\n",
      "[d3blocks] >INFO> Redoing LCIA\n",
      "[d3blocks] >INFO> Redoing LCI\n",
      "[d3blocks] >INFO> Redoing LCIA\n",
      "[d3blocks] >INFO> Redoing LCI\n",
      "[d3blocks] >INFO> Redoing LCIA\n",
      "[d3blocks] >INFO> Redoing LCI\n",
      "[d3blocks] >INFO> Redoing LCIA\n",
      "[d3blocks] >INFO> Redoing LCI\n",
      "[d3blocks] >INFO> Redoing LCIA\n",
      "[d3blocks] >INFO> Redoing LCI\n",
      "[d3blocks] >INFO> Redoing LCIA\n",
      "[d3blocks] >INFO> Redoing LCI\n",
      "[d3blocks] >INFO> Redoing LCIA\n",
      "[d3blocks] >INFO> Redoing LCI\n",
      "[d3blocks] >INFO> Redoing LCIA\n",
      "[d3blocks] >INFO> Redoing LCI\n",
      "[d3blocks] >INFO> Redoing LCIA\n",
      "[d3blocks] >INFO> Redoing LCI\n",
      "[d3blocks] >INFO> Redoing LCIA\n",
      "[d3blocks] >INFO> Redoing LCI\n",
      "[d3blocks] >INFO> Redoing LCIA\n",
      "[d3blocks] >INFO> Redoing LCI\n",
      "[d3blocks] >INFO> Redoing LCIA\n",
      "[d3blocks] >INFO> Redoing LCI\n",
      "[d3blocks] >INFO> Redoing LCIA\n",
      "[d3blocks] >INFO> Redoing LCI\n",
      "[d3blocks] >INFO> Redoing LCIA\n",
      "[d3blocks] >INFO> Redoing LCI\n",
      "[d3blocks] >INFO> Redoing LCIA\n",
      "[d3blocks] >INFO> Redoing LCI\n",
      "[d3blocks] >INFO> Redoing LCIA\n",
      "[d3blocks] >INFO> Redoing LCI\n",
      "[d3blocks] >INFO> Redoing LCIA\n",
      "[d3blocks] >INFO> Redoing LCI\n",
      "[d3blocks] >INFO> Redoing LCIA\n",
      "[d3blocks] >INFO> Redoing LCI\n",
      "[d3blocks] >INFO> Redoing LCIA\n",
      "[d3blocks] >INFO> Redoing LCI\n",
      "[d3blocks] >INFO> Redoing LCIA\n",
      "[d3blocks] >INFO> Redoing LCI\n",
      "[d3blocks] >INFO> Redoing LCIA\n",
      "[d3blocks] >INFO> Redoing LCI\n",
      "[d3blocks] >INFO> Redoing LCIA\n",
      "[d3blocks] >INFO> Redoing LCI\n",
      "[d3blocks] >INFO> Redoing LCIA\n",
      "[d3blocks] >INFO> Redoing LCI\n",
      "[d3blocks] >INFO> Redoing LCIA\n",
      "[d3blocks] >INFO> Redoing LCI\n",
      "[d3blocks] >INFO> Redoing LCIA\n",
      "[d3blocks] >INFO> Redoing LCI\n",
      "[d3blocks] >INFO> Redoing LCIA\n",
      "[d3blocks] >INFO> Redoing LCI\n",
      "[d3blocks] >INFO> Redoing LCIA\n",
      "[d3blocks] >INFO> Redoing LCI\n",
      "[d3blocks] >INFO> Redoing LCIA\n",
      "[d3blocks] >INFO> Redoing LCI\n",
      "[d3blocks] >INFO> Redoing LCIA\n",
      "[d3blocks] >INFO> Redoing LCI\n",
      "[d3blocks] >INFO> Redoing LCIA\n",
      "[d3blocks] >INFO> Redoing LCI\n",
      "[d3blocks] >INFO> Redoing LCIA\n",
      "[d3blocks] >INFO> Redoing LCI\n",
      "[d3blocks] >INFO> Redoing LCIA\n",
      "[d3blocks] >INFO> Redoing LCI\n",
      "[d3blocks] >INFO> Redoing LCIA\n",
      "[d3blocks] >INFO> Redoing LCI\n",
      "[d3blocks] >INFO> Redoing LCIA\n",
      "[d3blocks] >INFO> Redoing LCI\n",
      "[d3blocks] >INFO> Redoing LCIA\n",
      "[d3blocks] >INFO> Redoing LCI\n",
      "[d3blocks] >INFO> Redoing LCIA\n",
      "[d3blocks] >INFO> Redoing LCI\n",
      "[d3blocks] >INFO> Redoing LCIA\n",
      "[d3blocks] >INFO> Redoing LCI\n",
      "[d3blocks] >INFO> Redoing LCIA\n",
      "[d3blocks] >INFO> Redoing LCI\n",
      "[d3blocks] >INFO> Redoing LCIA\n",
      "[d3blocks] >INFO> Redoing LCI\n",
      "[d3blocks] >INFO> Redoing LCIA\n",
      "[d3blocks] >INFO> Redoing LCI\n",
      "[d3blocks] >INFO> Redoing LCIA\n",
      "[d3blocks] >INFO> Redoing LCI\n",
      "[d3blocks] >INFO> Redoing LCIA\n",
      "[d3blocks] >INFO> Redoing LCI\n",
      "[d3blocks] >INFO> Redoing LCIA\n",
      "[d3blocks] >INFO> Redoing LCI\n",
      "[d3blocks] >INFO> Redoing LCIA\n",
      "[d3blocks] >INFO> Redoing LCI\n",
      "[d3blocks] >INFO> Redoing LCIA\n",
      "[d3blocks] >INFO> Redoing LCI\n",
      "[d3blocks] >INFO> Redoing LCIA\n",
      "[d3blocks] >INFO> Redoing LCI\n",
      "[d3blocks] >INFO> Redoing LCIA\n",
      "[d3blocks] >INFO> Redoing LCI\n",
      "[d3blocks] >INFO> Redoing LCIA\n",
      "[d3blocks] >INFO> Redoing LCI\n",
      "[d3blocks] >INFO> Redoing LCIA\n",
      "[d3blocks] >INFO> Redoing LCI\n",
      "[d3blocks] >INFO> Redoing LCIA\n",
      "[d3blocks] >INFO> Redoing LCI\n",
      "[d3blocks] >INFO> Redoing LCIA\n",
      "[d3blocks] >INFO> Redoing LCI\n",
      "[d3blocks] >INFO> Redoing LCIA\n",
      "[d3blocks] >INFO> Redoing LCI\n",
      "[d3blocks] >INFO> Redoing LCIA\n",
      "[d3blocks] >INFO> Redoing LCI\n",
      "[d3blocks] >INFO> Redoing LCIA\n",
      "[d3blocks] >INFO> Redoing LCI\n",
      "[d3blocks] >INFO> Redoing LCIA\n",
      "[d3blocks] >INFO> Redoing LCI\n",
      "[d3blocks] >INFO> Redoing LCIA\n",
      "[d3blocks] >INFO> Redoing LCI\n",
      "[d3blocks] >INFO> Redoing LCIA\n",
      "[d3blocks] >INFO> Redoing LCI\n",
      "[d3blocks] >INFO> Redoing LCIA\n",
      "[d3blocks] >INFO> Redoing LCI\n",
      "[d3blocks] >INFO> Redoing LCIA\n",
      "[d3blocks] >INFO> Redoing LCI\n",
      "[d3blocks] >INFO> Redoing LCIA\n",
      "[d3blocks] >INFO> Redoing LCI\n",
      "[d3blocks] >INFO> Redoing LCIA\n",
      "[d3blocks] >INFO> Redoing LCI\n",
      "[d3blocks] >INFO> Redoing LCIA\n",
      "[d3blocks] >INFO> Redoing LCI\n",
      "[d3blocks] >INFO> Redoing LCIA\n",
      "[d3blocks] >INFO> Redoing LCI\n",
      "[d3blocks] >INFO> Redoing LCIA\n",
      "[d3blocks] >INFO> Redoing LCI\n",
      "[d3blocks] >INFO> Redoing LCIA\n",
      "[d3blocks] >INFO> Redoing LCI\n",
      "[d3blocks] >INFO> Redoing LCIA\n",
      "[d3blocks] >INFO> Redoing LCI\n",
      "[d3blocks] >INFO> Redoing LCIA\n",
      "[d3blocks] >INFO> Redoing LCI\n",
      "[d3blocks] >INFO> Redoing LCIA\n",
      "[d3blocks] >INFO> Cleaning edge_properties and config parameters..\n",
      "[d3blocks] >INFO> Set directed=True to see the markers!\n",
      "[d3blocks] >INFO> Keep only edges with weight>0\n",
      "[d3blocks] >INFO> Number of unique nodes: 32\n",
      "[d3blocks] >INFO> Slider range is set to [36, 1836]\n",
      "[d3blocks] >INFO> Write to path: [/Users/romain/GitHub/polyviz/dev/photovoltaic slantedroof installation 3kWp CdTe laminated integrated on roof unit RoW force.html]\n",
      "[d3blocks] >INFO> File already exists and will be overwritten: [/Users/romain/GitHub/polyviz/dev/photovoltaic slantedroof installation 3kWp CdTe laminated integrated on roof unit RoW force.html]\n"
     ]
    },
    {
     "data": {
      "text/plain": [
       "'/Users/romain/GitHub/polyviz/dev/photovoltaic slantedroof installation 3kWp CdTe laminated integrated on roof unit RoW force.html'"
      ]
     },
     "execution_count": 6,
     "metadata": {},
     "output_type": "execute_result"
    }
   ],
   "source": [
    "force(activity=act, method=('IPCC 2013', 'climate change', 'GWP 100a'), level=4vi"
   ]
  },
  {
   "cell_type": "code",
   "execution_count": 4,
   "id": "783b45d9-9d06-4b31-8e33-2f5b5b469b2e",
   "metadata": {},
   "outputs": [
    {
     "name": "stderr",
     "output_type": "stream",
     "text": [
      "/opt/homebrew/Caskroom/miniforge/base/envs/ab/lib/python3.9/site-packages/scikits/umfpack/umfpack.py:736: UmfpackWarning: (almost) singular matrix! (estimated cond. number: 6.19e+13)\n",
      "  warnings.warn(msg, UmfpackWarning)\n",
      "[d3blocks] >INFO> Cleaning edge_properties and config parameters..\n",
      "[d3blocks] >INFO> Cleaning edge_properties and config parameters..\n",
      "[d3blocks] >INFO> Initializing [sankey]\n",
      "[d3blocks] >INFO> Convert to Frame.\n",
      "[d3blocks] >INFO> Node properties are set.\n",
      "[d3blocks] >INFO> Edge properties are set.\n"
     ]
    },
    {
     "name": "stdout",
     "output_type": "stream",
     "text": [
      "34\n",
      "                                               source  \\\n",
      "0   'treatment of municipal solid waste, incinerat...   \n",
      "1     'm. for transport, freight, lorry, unspecified'   \n",
      "2   'transport, freight, lorry, all sizes, EURO3 t...   \n",
      "3   'm. for municipal waste incineration facility'...   \n",
      "4   'municipal waste incineration facility constru...   \n",
      "5                    'm. for reinforcing steel' (GLO)   \n",
      "6                      'reinforcing steel production'   \n",
      "7                'reinforcing steel production' (RoW)   \n",
      "8                  'm. for cement, unspecified' (RoW)   \n",
      "9   'cement, all types to generic m. for cement, u...   \n",
      "10          'm. for ammonia, anhydrous, liquid' (RER)   \n",
      "11      'ammonia production, steam reforming, liquid'   \n",
      "12  'ammonia production, steam reforming, liquid' ...   \n",
      "13  'm. for heat, district or industrial, natural ...   \n",
      "14  'heat production, natural gas, at industrial f...   \n",
      "15            'm. gr. for natural gas, high pressure'   \n",
      "16                       'm. for cement, unspecified'   \n",
      "17  'cement, all types to generic m. for cement, u...   \n",
      "18                          'm. for cement, Portland'   \n",
      "19                      'cement production, Portland'   \n",
      "20    'm. for cement, alternative constituents 6-20%'   \n",
      "21  'cement production, alternative constituents 6...   \n",
      "22                       'm. for slag landfill' (GLO)   \n",
      "23                 'slag landfill construction' (RoW)   \n",
      "24  'm. for sodium hydroxide, without water, in 50...   \n",
      "25   'chlor-alkali electrolysis, membrane cell' (RoW)   \n",
      "26           'm. gr. for electricity, medium voltage'   \n",
      "27          'process-specific burdens, slag landfill'   \n",
      "28  'm. for diesel, burned in building machine' (GLO)   \n",
      "29         'diesel, burned in building machine' (GLO)   \n",
      "30           'm. for quicklime, milled, packed' (RER)   \n",
      "31        'quicklime production, milled, packed' (CH)   \n",
      "32         'quicklime production, milled, loose' (CH)   \n",
      "33      'quicklime production, in pieces, loose' (CH)   \n",
      "\n",
      "                                               target    weight  \n",
      "0   'treatment of municipal solid waste, incinerat...  0.519300  \n",
      "1   'treatment of municipal solid waste, incinerat...  0.001275  \n",
      "2     'm. for transport, freight, lorry, unspecified'  0.000588  \n",
      "3   'treatment of municipal solid waste, incinerat...  0.004079  \n",
      "4   'm. for municipal waste incineration facility'...  0.004079  \n",
      "5   'municipal waste incineration facility constru...  0.002152  \n",
      "6                    'm. for reinforcing steel' (GLO)  0.000661  \n",
      "7                    'm. for reinforcing steel' (GLO)  0.001448  \n",
      "8   'municipal waste incineration facility constru...  0.000603  \n",
      "9                  'm. for cement, unspecified' (RoW)  0.000603  \n",
      "10  'treatment of municipal solid waste, incinerat...  0.001906  \n",
      "11          'm. for ammonia, anhydrous, liquid' (RER)  0.000936  \n",
      "12          'm. for ammonia, anhydrous, liquid' (RER)  0.000952  \n",
      "13  'treatment of municipal solid waste, incinerat...  0.006683  \n",
      "14  'm. for heat, district or industrial, natural ...  0.004786  \n",
      "15  'heat production, natural gas, at industrial f...  0.000730  \n",
      "16  'treatment of municipal solid waste, incinerat...  0.007015  \n",
      "17                       'm. for cement, unspecified'  0.007015  \n",
      "18  'cement, all types to generic m. for cement, u...  0.002069  \n",
      "19                          'm. for cement, Portland'  0.002018  \n",
      "20  'cement, all types to generic m. for cement, u...  0.003878  \n",
      "21    'm. for cement, alternative constituents 6-20%'  0.003775  \n",
      "22  'treatment of municipal solid waste, incinerat...  0.000873  \n",
      "23                       'm. for slag landfill' (GLO)  0.000873  \n",
      "24  'treatment of municipal solid waste, incinerat...  0.001432  \n",
      "25  'm. for sodium hydroxide, without water, in 50...  0.000958  \n",
      "26   'chlor-alkali electrolysis, membrane cell' (RoW)  0.000551  \n",
      "27  'treatment of municipal solid waste, incinerat...  0.000581  \n",
      "28          'process-specific burdens, slag landfill'  0.000550  \n",
      "29  'm. for diesel, burned in building machine' (GLO)  0.000550  \n",
      "30  'treatment of municipal solid waste, incinerat...  0.003778  \n",
      "31           'm. for quicklime, milled, packed' (RER)  0.003744  \n",
      "32        'quicklime production, milled, packed' (CH)  0.003729  \n",
      "33         'quicklime production, milled, loose' (CH)  0.003725  \n"
     ]
    },
    {
     "name": "stderr",
     "output_type": "stream",
     "text": [
      "[d3blocks] >INFO> File not found: [file:////Users/romain/GitHub/polyviz/dev/treatment of municipal solid waste incineration kilogram NL sankey.html]\n",
      "[d3blocks] >INFO> Open browser: file:////Users/romain/GitHub/polyviz/dev/treatment of municipal solid waste incineration kilogram NL sankey.html\n"
     ]
    },
    {
     "data": {
      "text/plain": [
       "'/Users/romain/GitHub/polyviz/dev/treatment of municipal solid waste incineration kilogram NL sankey.html'"
      ]
     },
     "execution_count": 4,
     "metadata": {},
     "output_type": "execute_result"
    }
   ],
   "source": [
    "sankey(activity=act, method=('IPCC 2013', 'climate change', 'GWP 100a'), level=4, cutoff=0.001)"
   ]
  },
  {
   "cell_type": "code",
   "execution_count": 3,
   "id": "27384052-a63e-473f-83f0-9febf0694275",
   "metadata": {},
   "outputs": [
    {
     "data": {
      "text/plain": [
       "'treatment of municipal solid waste, incineration' (kilogram, DK, None)"
      ]
     },
     "execution_count": 3,
     "metadata": {},
     "output_type": "execute_result"
    }
   ],
   "source": [
    "act = [a for a in bw.Database(\"ecoinvent 3.8 cutoff\") if a[\"name\"] == \"treatment of municipal solid waste, incineration\" and a[\"unit\"]==\"kilogram\"][0]\n",
    "act"
   ]
  },
  {
   "cell_type": "code",
   "execution_count": 4,
   "id": "100dc47b-2512-4e83-b130-9d5b35be70e5",
   "metadata": {},
   "outputs": [
    {
     "data": {
      "text/plain": [
       "63"
      ]
     },
     "execution_count": 4,
     "metadata": {},
     "output_type": "execute_result"
    }
   ],
   "source": [
    "a=\"treatment of decommissioned pipeline, natural gas (natural gas)\"\n",
    "len(a)"
   ]
  },
  {
   "cell_type": "code",
   "execution_count": 11,
   "id": "8182a270-cde6-4717-8e16-06c6da1a3e7c",
   "metadata": {},
   "outputs": [
    {
     "data": {
      "text/plain": [
       "\"market for polystyrene foam slab for perimeter insulation' \""
      ]
     },
     "execution_count": 11,
     "metadata": {},
     "output_type": "execute_result"
    }
   ],
   "source": [
    "a.split(\"(\")[0]"
   ]
  },
  {
   "cell_type": "code",
   "execution_count": 8,
   "id": "40bf670d-7155-4d31-99b1-f3166da230a0",
   "metadata": {},
   "outputs": [
    {
     "name": "stderr",
     "output_type": "stream",
     "text": [
      "[d3blocks] >INFO> Created LCA object\n"
     ]
    },
    {
     "data": {
      "text/plain": [
       "135932191.59512746"
      ]
     },
     "execution_count": 8,
     "metadata": {},
     "output_type": "execute_result"
    }
   ],
   "source": [
    "lca = bw.LCA({act :1}, ('IPCC 2013', 'climate change', 'GWP 100a'))\n",
    "lca.lci()\n",
    "lca.lcia()\n",
    "lca.score"
   ]
  },
  {
   "cell_type": "code",
   "execution_count": 11,
   "id": "c2402d85-9b5c-4083-8c6c-cf401998a304",
   "metadata": {},
   "outputs": [],
   "source": [
    "import bw2analyzer"
   ]
  },
  {
   "cell_type": "code",
   "execution_count": 26,
   "id": "fe5c0385-8aec-4835-bf6d-83f885f5e91d",
   "metadata": {},
   "outputs": [],
   "source": [
    "from io import StringIO\n",
    "result = StringIO()"
   ]
  },
  {
   "cell_type": "code",
   "execution_count": 33,
   "id": "0ee8f16c-d0b8-40dd-b3fb-d8973689064d",
   "metadata": {},
   "outputs": [
    {
     "data": {
      "text/plain": [
       "\u001b[0;31mSignature:\u001b[0m\n",
       "\u001b[0mbw2analyzer\u001b[0m\u001b[0;34m.\u001b[0m\u001b[0mprint_recursive_calculation\u001b[0m\u001b[0;34m(\u001b[0m\u001b[0;34m\u001b[0m\n",
       "\u001b[0;34m\u001b[0m    \u001b[0mactivity\u001b[0m\u001b[0;34m,\u001b[0m\u001b[0;34m\u001b[0m\n",
       "\u001b[0;34m\u001b[0m    \u001b[0mlcia_method\u001b[0m\u001b[0;34m,\u001b[0m\u001b[0;34m\u001b[0m\n",
       "\u001b[0;34m\u001b[0m    \u001b[0mamount\u001b[0m\u001b[0;34m=\u001b[0m\u001b[0;36m1\u001b[0m\u001b[0;34m,\u001b[0m\u001b[0;34m\u001b[0m\n",
       "\u001b[0;34m\u001b[0m    \u001b[0mmax_level\u001b[0m\u001b[0;34m=\u001b[0m\u001b[0;36m3\u001b[0m\u001b[0;34m,\u001b[0m\u001b[0;34m\u001b[0m\n",
       "\u001b[0;34m\u001b[0m    \u001b[0mcutoff\u001b[0m\u001b[0;34m=\u001b[0m\u001b[0;36m0.01\u001b[0m\u001b[0;34m,\u001b[0m\u001b[0;34m\u001b[0m\n",
       "\u001b[0;34m\u001b[0m    \u001b[0mfile_obj\u001b[0m\u001b[0;34m=\u001b[0m\u001b[0;32mNone\u001b[0m\u001b[0;34m,\u001b[0m\u001b[0;34m\u001b[0m\n",
       "\u001b[0;34m\u001b[0m    \u001b[0mtab_character\u001b[0m\u001b[0;34m=\u001b[0m\u001b[0;34m'  '\u001b[0m\u001b[0;34m,\u001b[0m\u001b[0;34m\u001b[0m\n",
       "\u001b[0;34m\u001b[0m    \u001b[0mlevel\u001b[0m\u001b[0;34m=\u001b[0m\u001b[0;36m0\u001b[0m\u001b[0;34m,\u001b[0m\u001b[0;34m\u001b[0m\n",
       "\u001b[0;34m\u001b[0m    \u001b[0mlca_obj\u001b[0m\u001b[0;34m=\u001b[0m\u001b[0;32mNone\u001b[0m\u001b[0;34m,\u001b[0m\u001b[0;34m\u001b[0m\n",
       "\u001b[0;34m\u001b[0m    \u001b[0mtotal_score\u001b[0m\u001b[0;34m=\u001b[0m\u001b[0;32mNone\u001b[0m\u001b[0;34m,\u001b[0m\u001b[0;34m\u001b[0m\n",
       "\u001b[0;34m\u001b[0m    \u001b[0mfirst\u001b[0m\u001b[0;34m=\u001b[0m\u001b[0;32mTrue\u001b[0m\u001b[0;34m,\u001b[0m\u001b[0;34m\u001b[0m\n",
       "\u001b[0;34m\u001b[0m\u001b[0;34m)\u001b[0m\u001b[0;34m\u001b[0m\u001b[0;34m\u001b[0m\u001b[0m\n",
       "\u001b[0;31mDocstring:\u001b[0m\n",
       "Traverse a supply chain graph, and calculate the LCA scores of each component. Prints the result with the format:\n",
       "\n",
       "{tab_character * level }{fraction of total score} ({absolute LCA score for this input} | {amount of input}) {input activity}\n",
       "\n",
       "Args:\n",
       "    activity: ``Activity``. The starting point of the supply chain graph.\n",
       "    lcia_method: tuple. LCIA method to use when traversing supply chain graph.\n",
       "    amount: int. Amount of ``activity`` to assess.\n",
       "    max_level: int. Maximum depth to traverse.\n",
       "    cutoff: float. Fraction of total score to use as cutoff when deciding whether to traverse deeper.\n",
       "    file_obj: File-like object (supports ``.write``), optional. Output will be written to this object if provided.\n",
       "    tab_character: str. Character to use to indicate indentation.\n",
       "\n",
       "Internal args (used during recursion, do not touch);\n",
       "    level: int.\n",
       "    lca_obj: ``LCA``.\n",
       "    total_score: float.\n",
       "    first: bool.\n",
       "\n",
       "Returns:\n",
       "    Nothing. Prints to ``sys.stdout`` or ``file_obj``\n",
       "\u001b[0;31mFile:\u001b[0m      /opt/homebrew/Caskroom/miniforge/base/envs/ab/lib/python3.9/site-packages/bw2analyzer/utils.py\n",
       "\u001b[0;31mType:\u001b[0m      function"
      ]
     },
     "metadata": {},
     "output_type": "display_data"
    }
   ],
   "source": [
    "bw2analyzer.print_recursive_calculation?"
   ]
  },
  {
   "cell_type": "code",
   "execution_count": 34,
   "id": "8ba150af-b941-4736-85df-6692cceecd6f",
   "metadata": {},
   "outputs": [
    {
     "data": {
      "text/plain": [
       "'Fraction of score | Absolute score | Amount | Activity'"
      ]
     },
     "execution_count": 34,
     "metadata": {},
     "output_type": "execute_result"
    }
   ],
   "source": [
    "result.getvalue().split(\"\\n\")[0]"
   ]
  },
  {
   "cell_type": "code",
   "execution_count": 45,
   "id": "1d2ff5f4-a47e-4bef-9128-44f4c9e75d57",
   "metadata": {},
   "outputs": [],
   "source": [
    "current_level = 0\n",
    "levels = {}\n",
    "res = [s for s in result.getvalue().split(\"\\n\")[1:] if s]\n",
    "\n",
    "list_res = []\n",
    "\n",
    "for s in res:\n",
    "    \n",
    "    x = s.split(\" | \")\n",
    "    level = x[0].count(\"*\")\n",
    "    levels[level] = x[-1].strip()\n",
    "    \n",
    "    if level == 0:\n",
    "        list_res.append([x[-1].strip(), x[-1].strip(), eval(x[1])])\n",
    "    else:\n",
    "        list_res.append([x[-1].strip(), levels[level-1], eval(x[1])])\n",
    "    "
   ]
  },
  {
   "cell_type": "code",
   "execution_count": 49,
   "id": "6c054840-f227-44e2-86a2-e5119f5f006a",
   "metadata": {},
   "outputs": [],
   "source": [
    "import pandas as pd\n",
    "df = pd.DataFrame(list_res, columns = [\"source\", \"target\", \"weight\"])"
   ]
  },
  {
   "cell_type": "code",
   "execution_count": 51,
   "id": "30963b14-6ae9-4b13-b499-2f7527e8a3bd",
   "metadata": {},
   "outputs": [
    {
     "name": "stderr",
     "output_type": "stream",
     "text": [
      "[d3blocks] >INFO> Set directed=True to see the markers!\n",
      "[d3blocks] >INFO> Keep only edges with weight>0\n",
      "[d3blocks] >INFO> Number of unique nodes: 21\n",
      "[d3blocks] >INFO> Slider range is set to [1.389e+06, 9.851e+07]\n",
      "[d3blocks] >INFO> Write to path: [/var/folders/cn/pys1j9rn0y7djkhv3hfdtrs00000gn/T/tmp3mld24f_/d3graph.html]\n",
      "[d3blocks] >INFO> File already exists and will be overwritten: [/var/folders/cn/pys1j9rn0y7djkhv3hfdtrs00000gn/T/tmp3mld24f_/d3graph.html]\n"
     ]
    }
   ],
   "source": [
    "d3.d3graph(df, showfig=False)"
   ]
  },
  {
   "cell_type": "code",
   "execution_count": 52,
   "id": "591aee63-2c24-4da1-8c86-7f850876f649",
   "metadata": {},
   "outputs": [
    {
     "name": "stderr",
     "output_type": "stream",
     "text": [
      "[d3blocks] >INFO> Slider range is set to [1.389e+06, 9.851e+07]\n",
      "[d3blocks] >INFO> Write to path: [/var/folders/cn/pys1j9rn0y7djkhv3hfdtrs00000gn/T/tmp2wrwljas/d3graph.html]\n",
      "[d3blocks] >INFO> File already exists and will be overwritten: [/var/folders/cn/pys1j9rn0y7djkhv3hfdtrs00000gn/T/tmp2wrwljas/d3graph.html]\n"
     ]
    }
   ],
   "source": [
    "d3.D3graph.show()"
   ]
  },
  {
   "cell_type": "code",
   "execution_count": 58,
   "id": "900e31a5-da1e-4830-bb71-6be8af3a8fea",
   "metadata": {},
   "outputs": [
    {
     "name": "stderr",
     "output_type": "stream",
     "text": [
      "[d3blocks] >INFO> Cleaning edge_properties and config parameters..\n",
      "[d3blocks] >INFO> Cleaning edge_properties and config parameters..\n",
      "[d3blocks] >INFO> Initializing [sankey]\n",
      "[d3blocks] >INFO> Convert to Frame.\n",
      "[d3blocks] >INFO> Node properties are set.\n",
      "[d3blocks] >INFO> Edge properties are set.\n",
      "[d3blocks] >INFO> File already exists and will be overwritten: [/var/folders/cn/pys1j9rn0y7djkhv3hfdtrs00000gn/T/d3blocks/sankey.html]\n",
      "[d3blocks] >INFO> File not found: [file:////var/folders/cn/pys1j9rn0y7djkhv3hfdtrs00000gn/T/d3blocks/sankey.html]\n",
      "[d3blocks] >INFO> Open browser: file:////var/folders/cn/pys1j9rn0y7djkhv3hfdtrs00000gn/T/d3blocks/sankey.html\n"
     ]
    }
   ],
   "source": [
    "d3 = D3Blocks()\n",
    "d3.sankey(df[1:], link={\"color\": \"source-target\"})"
   ]
  },
  {
   "cell_type": "code",
   "execution_count": 69,
   "id": "e95952e9-3194-4e9b-99b4-5e7c76979211",
   "metadata": {},
   "outputs": [],
   "source": [
    "my_demand = {act:1}\n",
    "my_methods = [('IPCC 2013', 'climate change', 'GWP 100a'), ('ReCiPe Midpoint (E) w/o LT', 'ozone depletion w/o LT', 'ODPinf w/o LT')]"
   ]
  },
  {
   "cell_type": "code",
   "execution_count": 70,
   "id": "e9711f49-351c-45a7-af86-27de8df129cf",
   "metadata": {},
   "outputs": [],
   "source": [
    "def get_C_matrices(demand, list_of_methods):\n",
    "    \"\"\" Return a dict with {method tuple:cf_matrix} for a list of methods\n",
    "    Uses a \"sacrificial LCA\" with exactly the same demand as will be used\n",
    "    in the MonteCarloLCA\n",
    "    \"\"\"\n",
    "    C_matrices = {}\n",
    "    sacrificial_LCA = bw.LCA(demand)\n",
    "    sacrificial_LCA.lci()\n",
    "    for method in list_of_methods:\n",
    "        sacrificial_LCA.switch_method(method)\n",
    "        C_matrices[method] = sacrificial_LCA.characterization_matrix\n",
    "    return C_matrices"
   ]
  },
  {
   "cell_type": "code",
   "execution_count": 93,
   "id": "2e3a71b8-b2d0-4ae7-9e04-64d02a8a06ca",
   "metadata": {},
   "outputs": [
    {
     "name": "stderr",
     "output_type": "stream",
     "text": [
      "[d3blocks] >INFO> Created LCA object\n",
      "[d3blocks] >INFO> Seeded RNGs\n",
      "[d3blocks] >INFO> Created LCA object\n",
      "/opt/homebrew/Caskroom/miniforge/base/envs/ab/lib/python3.9/site-packages/scikits/umfpack/umfpack.py:736: UmfpackWarning: (almost) singular matrix! (estimated cond. number: 6.19e+13)\n",
      "  warnings.warn(msg, UmfpackWarning)\n",
      "[d3blocks] >INFO> Switching LCIA method\n",
      "[d3blocks] >INFO> Switching LCIA method\n",
      "/opt/homebrew/Caskroom/miniforge/base/envs/ab/lib/python3.9/site-packages/scikits/umfpack/umfpack.py:736: UmfpackWarning: (almost) singular matrix! (estimated cond. number: 2.07e+14)\n",
      "  warnings.warn(msg, UmfpackWarning)\n",
      "/opt/homebrew/Caskroom/miniforge/base/envs/ab/lib/python3.9/site-packages/scikits/umfpack/umfpack.py:736: UmfpackWarning: (almost) singular matrix! (estimated cond. number: 4.21e+13)\n",
      "  warnings.warn(msg, UmfpackWarning)\n",
      "/opt/homebrew/Caskroom/miniforge/base/envs/ab/lib/python3.9/site-packages/scikits/umfpack/umfpack.py:736: UmfpackWarning: (almost) singular matrix! (estimated cond. number: 7.23e+13)\n",
      "  warnings.warn(msg, UmfpackWarning)\n",
      "/opt/homebrew/Caskroom/miniforge/base/envs/ab/lib/python3.9/site-packages/scikits/umfpack/umfpack.py:736: UmfpackWarning: (almost) singular matrix! (estimated cond. number: 1.15e+14)\n",
      "  warnings.warn(msg, UmfpackWarning)\n",
      "/opt/homebrew/Caskroom/miniforge/base/envs/ab/lib/python3.9/site-packages/scikits/umfpack/umfpack.py:736: UmfpackWarning: (almost) singular matrix! (estimated cond. number: 2.05e+14)\n",
      "  warnings.warn(msg, UmfpackWarning)\n",
      "/opt/homebrew/Caskroom/miniforge/base/envs/ab/lib/python3.9/site-packages/scikits/umfpack/umfpack.py:736: UmfpackWarning: (almost) singular matrix! (estimated cond. number: 1.62e+13)\n",
      "  warnings.warn(msg, UmfpackWarning)\n",
      "/opt/homebrew/Caskroom/miniforge/base/envs/ab/lib/python3.9/site-packages/scikits/umfpack/umfpack.py:736: UmfpackWarning: (almost) singular matrix! (estimated cond. number: 3.95e+13)\n",
      "  warnings.warn(msg, UmfpackWarning)\n",
      "/opt/homebrew/Caskroom/miniforge/base/envs/ab/lib/python3.9/site-packages/scikits/umfpack/umfpack.py:736: UmfpackWarning: (almost) singular matrix! (estimated cond. number: 5.04e+13)\n",
      "  warnings.warn(msg, UmfpackWarning)\n",
      "/opt/homebrew/Caskroom/miniforge/base/envs/ab/lib/python3.9/site-packages/scikits/umfpack/umfpack.py:736: UmfpackWarning: (almost) singular matrix! (estimated cond. number: 1.07e+14)\n",
      "  warnings.warn(msg, UmfpackWarning)\n",
      "/opt/homebrew/Caskroom/miniforge/base/envs/ab/lib/python3.9/site-packages/scikits/umfpack/umfpack.py:736: UmfpackWarning: (almost) singular matrix! (estimated cond. number: 1.50e+14)\n",
      "  warnings.warn(msg, UmfpackWarning)\n",
      "/opt/homebrew/Caskroom/miniforge/base/envs/ab/lib/python3.9/site-packages/scikits/umfpack/umfpack.py:736: UmfpackWarning: (almost) singular matrix! (estimated cond. number: 2.04e+13)\n",
      "  warnings.warn(msg, UmfpackWarning)\n",
      "/opt/homebrew/Caskroom/miniforge/base/envs/ab/lib/python3.9/site-packages/scikits/umfpack/umfpack.py:736: UmfpackWarning: (almost) singular matrix! (estimated cond. number: 7.85e+13)\n",
      "  warnings.warn(msg, UmfpackWarning)\n",
      "/opt/homebrew/Caskroom/miniforge/base/envs/ab/lib/python3.9/site-packages/scikits/umfpack/umfpack.py:736: UmfpackWarning: (almost) singular matrix! (estimated cond. number: 1.45e+13)\n",
      "  warnings.warn(msg, UmfpackWarning)\n",
      "/opt/homebrew/Caskroom/miniforge/base/envs/ab/lib/python3.9/site-packages/scikits/umfpack/umfpack.py:736: UmfpackWarning: (almost) singular matrix! (estimated cond. number: 1.04e+14)\n",
      "  warnings.warn(msg, UmfpackWarning)\n",
      "/opt/homebrew/Caskroom/miniforge/base/envs/ab/lib/python3.9/site-packages/scikits/umfpack/umfpack.py:736: UmfpackWarning: (almost) singular matrix! (estimated cond. number: 9.75e+13)\n",
      "  warnings.warn(msg, UmfpackWarning)\n",
      "/opt/homebrew/Caskroom/miniforge/base/envs/ab/lib/python3.9/site-packages/scikits/umfpack/umfpack.py:736: UmfpackWarning: (almost) singular matrix! (estimated cond. number: 7.93e+13)\n",
      "  warnings.warn(msg, UmfpackWarning)\n",
      "/opt/homebrew/Caskroom/miniforge/base/envs/ab/lib/python3.9/site-packages/scikits/umfpack/umfpack.py:736: UmfpackWarning: (almost) singular matrix! (estimated cond. number: 1.23e+13)\n",
      "  warnings.warn(msg, UmfpackWarning)\n",
      "/opt/homebrew/Caskroom/miniforge/base/envs/ab/lib/python3.9/site-packages/scikits/umfpack/umfpack.py:736: UmfpackWarning: (almost) singular matrix! (estimated cond. number: 9.52e+13)\n",
      "  warnings.warn(msg, UmfpackWarning)\n",
      "/opt/homebrew/Caskroom/miniforge/base/envs/ab/lib/python3.9/site-packages/scikits/umfpack/umfpack.py:736: UmfpackWarning: (almost) singular matrix! (estimated cond. number: 1.09e+14)\n",
      "  warnings.warn(msg, UmfpackWarning)\n",
      "/opt/homebrew/Caskroom/miniforge/base/envs/ab/lib/python3.9/site-packages/scikits/umfpack/umfpack.py:736: UmfpackWarning: (almost) singular matrix! (estimated cond. number: 1.20e+13)\n",
      "  warnings.warn(msg, UmfpackWarning)\n",
      "/opt/homebrew/Caskroom/miniforge/base/envs/ab/lib/python3.9/site-packages/scikits/umfpack/umfpack.py:736: UmfpackWarning: (almost) singular matrix! (estimated cond. number: 4.49e+13)\n",
      "  warnings.warn(msg, UmfpackWarning)\n",
      "/opt/homebrew/Caskroom/miniforge/base/envs/ab/lib/python3.9/site-packages/scikits/umfpack/umfpack.py:736: UmfpackWarning: (almost) singular matrix! (estimated cond. number: 1.25e+13)\n",
      "  warnings.warn(msg, UmfpackWarning)\n",
      "/opt/homebrew/Caskroom/miniforge/base/envs/ab/lib/python3.9/site-packages/scikits/umfpack/umfpack.py:736: UmfpackWarning: (almost) singular matrix! (estimated cond. number: 4.06e+13)\n",
      "  warnings.warn(msg, UmfpackWarning)\n",
      "/opt/homebrew/Caskroom/miniforge/base/envs/ab/lib/python3.9/site-packages/scikits/umfpack/umfpack.py:736: UmfpackWarning: (almost) singular matrix! (estimated cond. number: 8.78e+13)\n",
      "  warnings.warn(msg, UmfpackWarning)\n",
      "/opt/homebrew/Caskroom/miniforge/base/envs/ab/lib/python3.9/site-packages/scikits/umfpack/umfpack.py:736: UmfpackWarning: (almost) singular matrix! (estimated cond. number: 7.38e+13)\n",
      "  warnings.warn(msg, UmfpackWarning)\n",
      "/opt/homebrew/Caskroom/miniforge/base/envs/ab/lib/python3.9/site-packages/scikits/umfpack/umfpack.py:736: UmfpackWarning: (almost) singular matrix! (estimated cond. number: 2.09e+13)\n",
      "  warnings.warn(msg, UmfpackWarning)\n",
      "/opt/homebrew/Caskroom/miniforge/base/envs/ab/lib/python3.9/site-packages/scikits/umfpack/umfpack.py:736: UmfpackWarning: (almost) singular matrix! (estimated cond. number: 3.69e+13)\n",
      "  warnings.warn(msg, UmfpackWarning)\n",
      "/opt/homebrew/Caskroom/miniforge/base/envs/ab/lib/python3.9/site-packages/scikits/umfpack/umfpack.py:736: UmfpackWarning: (almost) singular matrix! (estimated cond. number: 9.55e+13)\n",
      "  warnings.warn(msg, UmfpackWarning)\n",
      "/opt/homebrew/Caskroom/miniforge/base/envs/ab/lib/python3.9/site-packages/scikits/umfpack/umfpack.py:736: UmfpackWarning: (almost) singular matrix! (estimated cond. number: 4.62e+13)\n",
      "  warnings.warn(msg, UmfpackWarning)\n",
      "/opt/homebrew/Caskroom/miniforge/base/envs/ab/lib/python3.9/site-packages/scikits/umfpack/umfpack.py:736: UmfpackWarning: (almost) singular matrix! (estimated cond. number: 8.94e+13)\n",
      "  warnings.warn(msg, UmfpackWarning)\n",
      "/opt/homebrew/Caskroom/miniforge/base/envs/ab/lib/python3.9/site-packages/scikits/umfpack/umfpack.py:736: UmfpackWarning: (almost) singular matrix! (estimated cond. number: 9.50e+13)\n",
      "  warnings.warn(msg, UmfpackWarning)\n",
      "/opt/homebrew/Caskroom/miniforge/base/envs/ab/lib/python3.9/site-packages/scikits/umfpack/umfpack.py:736: UmfpackWarning: (almost) singular matrix! (estimated cond. number: 9.47e+13)\n",
      "  warnings.warn(msg, UmfpackWarning)\n",
      "/opt/homebrew/Caskroom/miniforge/base/envs/ab/lib/python3.9/site-packages/scikits/umfpack/umfpack.py:736: UmfpackWarning: (almost) singular matrix! (estimated cond. number: 9.95e+13)\n",
      "  warnings.warn(msg, UmfpackWarning)\n",
      "/opt/homebrew/Caskroom/miniforge/base/envs/ab/lib/python3.9/site-packages/scikits/umfpack/umfpack.py:736: UmfpackWarning: (almost) singular matrix! (estimated cond. number: 1.81e+13)\n",
      "  warnings.warn(msg, UmfpackWarning)\n",
      "/opt/homebrew/Caskroom/miniforge/base/envs/ab/lib/python3.9/site-packages/scikits/umfpack/umfpack.py:736: UmfpackWarning: (almost) singular matrix! (estimated cond. number: 1.13e+14)\n",
      "  warnings.warn(msg, UmfpackWarning)\n",
      "/opt/homebrew/Caskroom/miniforge/base/envs/ab/lib/python3.9/site-packages/scikits/umfpack/umfpack.py:736: UmfpackWarning: (almost) singular matrix! (estimated cond. number: 2.43e+13)\n",
      "  warnings.warn(msg, UmfpackWarning)\n",
      "/opt/homebrew/Caskroom/miniforge/base/envs/ab/lib/python3.9/site-packages/scikits/umfpack/umfpack.py:736: UmfpackWarning: (almost) singular matrix! (estimated cond. number: 4.40e+13)\n",
      "  warnings.warn(msg, UmfpackWarning)\n",
      "/opt/homebrew/Caskroom/miniforge/base/envs/ab/lib/python3.9/site-packages/scikits/umfpack/umfpack.py:736: UmfpackWarning: (almost) singular matrix! (estimated cond. number: 2.91e+14)\n",
      "  warnings.warn(msg, UmfpackWarning)\n",
      "/opt/homebrew/Caskroom/miniforge/base/envs/ab/lib/python3.9/site-packages/scikits/umfpack/umfpack.py:736: UmfpackWarning: (almost) singular matrix! (estimated cond. number: 9.91e+13)\n",
      "  warnings.warn(msg, UmfpackWarning)\n",
      "/opt/homebrew/Caskroom/miniforge/base/envs/ab/lib/python3.9/site-packages/scikits/umfpack/umfpack.py:736: UmfpackWarning: (almost) singular matrix! (estimated cond. number: 6.71e+13)\n",
      "  warnings.warn(msg, UmfpackWarning)\n"
     ]
    }
   ],
   "source": [
    "import numpy as np\n",
    "# Create array that will store mc results.\n",
    "# Shape is (number of methods, number of iteration)\n",
    "\n",
    "my_iterations = 100\n",
    "mc_scores = np.empty(shape=[len(my_methods), my_iterations])\n",
    "\n",
    "# Instantiate MonteCarloLCA object\n",
    "my_mc = bw.MonteCarloLCA(my_demand)\n",
    "\n",
    "# Get characterization factor matrices\n",
    "my_C_matrices = get_C_matrices(my_demand, my_methods)\n",
    "\n",
    "# Generate results\n",
    "for iteration in range(my_iterations):\n",
    "    lci = next(my_mc)\n",
    "    for i, m in enumerate(my_methods):\n",
    "        mc_scores[i, iteration] = (my_C_matrices[m]*my_mc.inventory).sum()  "
   ]
  },
  {
   "cell_type": "code",
   "execution_count": 94,
   "id": "01a97710-e612-4e03-9a82-6b8cd1ec680e",
   "metadata": {},
   "outputs": [],
   "source": [
    "df2 = pd.DataFrame(mc_scores.T, columns=[\"x\", \"y\"])"
   ]
  },
  {
   "cell_type": "code",
   "execution_count": 95,
   "id": "9a7b04e0-7ee1-45da-9f50-e3687dbbfd57",
   "metadata": {},
   "outputs": [],
   "source": [
    "df2[\"labels\"] = range(0, len(df2))"
   ]
  },
  {
   "cell_type": "code",
   "execution_count": 96,
   "id": "07ce4cb3-08b0-4f9e-9c1e-8627bb953c1a",
   "metadata": {},
   "outputs": [
    {
     "data": {
      "text/html": [
       "<div>\n",
       "<style scoped>\n",
       "    .dataframe tbody tr th:only-of-type {\n",
       "        vertical-align: middle;\n",
       "    }\n",
       "\n",
       "    .dataframe tbody tr th {\n",
       "        vertical-align: top;\n",
       "    }\n",
       "\n",
       "    .dataframe thead th {\n",
       "        text-align: right;\n",
       "    }\n",
       "</style>\n",
       "<table border=\"1\" class=\"dataframe\">\n",
       "  <thead>\n",
       "    <tr style=\"text-align: right;\">\n",
       "      <th></th>\n",
       "      <th>x</th>\n",
       "      <th>y</th>\n",
       "      <th>labels</th>\n",
       "    </tr>\n",
       "  </thead>\n",
       "  <tbody>\n",
       "    <tr>\n",
       "      <th>0</th>\n",
       "      <td>1.402791e+08</td>\n",
       "      <td>11.384087</td>\n",
       "      <td>0</td>\n",
       "    </tr>\n",
       "    <tr>\n",
       "      <th>1</th>\n",
       "      <td>1.345431e+08</td>\n",
       "      <td>10.288075</td>\n",
       "      <td>1</td>\n",
       "    </tr>\n",
       "    <tr>\n",
       "      <th>2</th>\n",
       "      <td>1.650348e+08</td>\n",
       "      <td>8.542158</td>\n",
       "      <td>2</td>\n",
       "    </tr>\n",
       "    <tr>\n",
       "      <th>3</th>\n",
       "      <td>1.913403e+08</td>\n",
       "      <td>20.655064</td>\n",
       "      <td>3</td>\n",
       "    </tr>\n",
       "    <tr>\n",
       "      <th>4</th>\n",
       "      <td>1.516365e+08</td>\n",
       "      <td>17.356755</td>\n",
       "      <td>4</td>\n",
       "    </tr>\n",
       "    <tr>\n",
       "      <th>...</th>\n",
       "      <td>...</td>\n",
       "      <td>...</td>\n",
       "      <td>...</td>\n",
       "    </tr>\n",
       "    <tr>\n",
       "      <th>95</th>\n",
       "      <td>1.878016e+08</td>\n",
       "      <td>11.450404</td>\n",
       "      <td>95</td>\n",
       "    </tr>\n",
       "    <tr>\n",
       "      <th>96</th>\n",
       "      <td>1.927203e+08</td>\n",
       "      <td>17.275066</td>\n",
       "      <td>96</td>\n",
       "    </tr>\n",
       "    <tr>\n",
       "      <th>97</th>\n",
       "      <td>1.680777e+08</td>\n",
       "      <td>13.069886</td>\n",
       "      <td>97</td>\n",
       "    </tr>\n",
       "    <tr>\n",
       "      <th>98</th>\n",
       "      <td>1.786586e+08</td>\n",
       "      <td>9.490607</td>\n",
       "      <td>98</td>\n",
       "    </tr>\n",
       "    <tr>\n",
       "      <th>99</th>\n",
       "      <td>1.276314e+08</td>\n",
       "      <td>16.151265</td>\n",
       "      <td>99</td>\n",
       "    </tr>\n",
       "  </tbody>\n",
       "</table>\n",
       "<p>100 rows × 3 columns</p>\n",
       "</div>"
      ],
      "text/plain": [
       "               x          y  labels\n",
       "0   1.402791e+08  11.384087       0\n",
       "1   1.345431e+08  10.288075       1\n",
       "2   1.650348e+08   8.542158       2\n",
       "3   1.913403e+08  20.655064       3\n",
       "4   1.516365e+08  17.356755       4\n",
       "..           ...        ...     ...\n",
       "95  1.878016e+08  11.450404      95\n",
       "96  1.927203e+08  17.275066      96\n",
       "97  1.680777e+08  13.069886      97\n",
       "98  1.786586e+08   9.490607      98\n",
       "99  1.276314e+08  16.151265      99\n",
       "\n",
       "[100 rows x 3 columns]"
      ]
     },
     "execution_count": 96,
     "metadata": {},
     "output_type": "execute_result"
    }
   ],
   "source": [
    "df2"
   ]
  },
  {
   "cell_type": "code",
   "execution_count": 97,
   "id": "cfe651a4-7665-41b6-a69a-1b903b2b2efa",
   "metadata": {},
   "outputs": [
    {
     "name": "stderr",
     "output_type": "stream",
     "text": [
      "[d3blocks] >INFO> Cleaning edge_properties and config parameters..\n"
     ]
    }
   ],
   "source": [
    "d3 = D3Blocks()"
   ]
  },
  {
   "cell_type": "code",
   "execution_count": 99,
   "id": "a15303e0-750a-4935-9284-1aa5822a629a",
   "metadata": {},
   "outputs": [
    {
     "name": "stderr",
     "output_type": "stream",
     "text": [
      "[d3blocks] >INFO> Cleaning edge_properties and config parameters..\n",
      "[d3blocks] >INFO> Initializing [Scatter]\n",
      "[d3blocks] >INFO> Convert to Frame.\n",
      "[d3blocks] >INFO> Edge properties are set.\n",
      "[d3blocks] >INFO> File already exists and will be overwritten: [/var/folders/cn/pys1j9rn0y7djkhv3hfdtrs00000gn/T/d3blocks/scatter_demo.html]\n",
      "[d3blocks] >INFO> File not found: [file:////var/folders/cn/pys1j9rn0y7djkhv3hfdtrs00000gn/T/d3blocks/scatter_demo.html]\n",
      "[d3blocks] >INFO> Open browser: file:////var/folders/cn/pys1j9rn0y7djkhv3hfdtrs00000gn/T/d3blocks/scatter_demo.html\n"
     ]
    }
   ],
   "source": [
    "d3.scatter(df2['x'].values,              # tSNE x-coordinates\n",
    "           df2['y'].values,              # tSNE y-coordinates\n",
    "           #x1=df['PC1'].values,         # PC1 x-coordinates\n",
    "           #y1=df['PC2'].values,         # PC2 y-coordinates\n",
    "           scale=False,                  # Scale\n",
    "           #label_radio=['tSNE', 'PCA'], # Label radio button\n",
    "           #size=size,                   # Size\n",
    "           #color=df2['labels'].values,   # Hex-colors or classlabels\n",
    "           stroke='#000000',            # Edge color\n",
    "           opacity=0.4,                 # Opacity\n",
    "           #tooltip=tooltip,             # Tooltip\n",
    "           cmap='tab20',                # Colormap\n",
    "           filepath='scatter_demo.html'\n",
    ")"
   ]
  },
  {
   "cell_type": "code",
   "execution_count": 100,
   "id": "27f2ee96-f956-49bc-a91d-8017edd34f17",
   "metadata": {},
   "outputs": [
    {
     "data": {
      "text/plain": [
       "\u001b[0;31mInit signature:\u001b[0m \u001b[0mbw\u001b[0m\u001b[0;34m.\u001b[0m\u001b[0mMultiMonteCarlo\u001b[0m\u001b[0;34m(\u001b[0m\u001b[0mdemands\u001b[0m\u001b[0;34m,\u001b[0m \u001b[0mmethod\u001b[0m\u001b[0;34m,\u001b[0m \u001b[0miterations\u001b[0m\u001b[0;34m,\u001b[0m \u001b[0mcpus\u001b[0m\u001b[0;34m=\u001b[0m\u001b[0;32mNone\u001b[0m\u001b[0;34m)\u001b[0m\u001b[0;34m\u001b[0m\u001b[0;34m\u001b[0m\u001b[0m\n",
       "\u001b[0;31mDocstring:\u001b[0m     \n",
       "This is a class for the efficient calculation of *many* demand vectors from\n",
       "each Monte Carlo iteration.\n",
       "\n",
       "Args:\n",
       "    * ``args`` is a list of demand dictionaries\n",
       "    * ``method`` is a LCIA method\n",
       "    * ``iterations`` is the number of Monte Carlo iterations desired\n",
       "    * ``cpus`` is the (optional) number of CPUs to use\n",
       "\n",
       "The input list can have complex demands, so ``[{('foo', 'bar'): 1, ('foo', 'baz'): 1}, {('foo', 'another'): 1}]`` is OK.\n",
       "\n",
       "Call ``.calculate()`` to generate results.\n",
       "\n",
       "    \n",
       "\u001b[0;31mFile:\u001b[0m           /opt/homebrew/Caskroom/miniforge/base/envs/ab/lib/python3.9/site-packages/bw2calc/monte_carlo.py\n",
       "\u001b[0;31mType:\u001b[0m           type\n",
       "\u001b[0;31mSubclasses:\u001b[0m     "
      ]
     },
     "metadata": {},
     "output_type": "display_data"
    }
   ],
   "source": [
    "bw.MultiMonteCarlo?"
   ]
  },
  {
   "cell_type": "code",
   "execution_count": 5,
   "id": "e6fa8e1b-a5fd-429b-b8aa-dacb310e283b",
   "metadata": {},
   "outputs": [],
   "source": [
    "mlca = bw.MultiMonteCarlo([{act:1} for act in bw.Database(\"ecoinvent 3.8 cutoff\") if act[\"unit\"] == \"person kilometer\"][:3], ('IPCC 2013', 'climate change', 'GWP 100a'), 5)"
   ]
  },
  {
   "cell_type": "code",
   "execution_count": 6,
   "id": "05754ce6-5a75-4b6e-a239-5230d88328f4",
   "metadata": {},
   "outputs": [
    {
     "name": "stderr",
     "output_type": "stream",
     "text": [
      "/opt/homebrew/Caskroom/miniforge/base/envs/ab/lib/python3.9/site-packages/scikits/umfpack/umfpack.py:736: UmfpackWarning: (almost) singular matrix! (estimated cond. number: 1.54e+13)\n",
      "  warnings.warn(msg, UmfpackWarning)\n",
      "/opt/homebrew/Caskroom/miniforge/base/envs/ab/lib/python3.9/site-packages/scikits/umfpack/umfpack.py:736: UmfpackWarning: (almost) singular matrix! (estimated cond. number: 5.38e+13)\n",
      "  warnings.warn(msg, UmfpackWarning)\n",
      "/opt/homebrew/Caskroom/miniforge/base/envs/ab/lib/python3.9/site-packages/scikits/umfpack/umfpack.py:736: UmfpackWarning: (almost) singular matrix! (estimated cond. number: 1.18e+13)\n",
      "  warnings.warn(msg, UmfpackWarning)\n",
      "/opt/homebrew/Caskroom/miniforge/base/envs/ab/lib/python3.9/site-packages/scikits/umfpack/umfpack.py:736: UmfpackWarning: (almost) singular matrix! (estimated cond. number: 1.27e+14)\n",
      "  warnings.warn(msg, UmfpackWarning)\n",
      "/opt/homebrew/Caskroom/miniforge/base/envs/ab/lib/python3.9/site-packages/scikits/umfpack/umfpack.py:736: UmfpackWarning: (almost) singular matrix! (estimated cond. number: 1.42e+14)\n",
      "  warnings.warn(msg, UmfpackWarning)\n"
     ]
    }
   ],
   "source": [
    "res = mlca.calculate()"
   ]
  },
  {
   "cell_type": "code",
   "execution_count": 7,
   "id": "73d0f962-07c8-4a54-983a-d5026350c8a0",
   "metadata": {},
   "outputs": [],
   "source": [
    "l_res = []\n",
    "for r in res:\n",
    "    name = bw.get_activity(list(r[0].keys())[0])[\"name\"]\n",
    "    vals = r[1:]\n",
    "    l_res.extend([[v, name] for v in vals[0]])"
   ]
  },
  {
   "cell_type": "code",
   "execution_count": 9,
   "id": "48243a4e-7d78-4b75-9f07-a1ce44057569",
   "metadata": {},
   "outputs": [],
   "source": [
    "import pandas as pd\n",
    "df3 = pd.DataFrame(l_res, columns=[\"val\", \"name\"])"
   ]
  },
  {
   "cell_type": "code",
   "execution_count": 10,
   "id": "018dfe53-cc8a-412f-8b61-6ffd12131687",
   "metadata": {},
   "outputs": [
    {
     "data": {
      "text/html": [
       "<div>\n",
       "<style scoped>\n",
       "    .dataframe tbody tr th:only-of-type {\n",
       "        vertical-align: middle;\n",
       "    }\n",
       "\n",
       "    .dataframe tbody tr th {\n",
       "        vertical-align: top;\n",
       "    }\n",
       "\n",
       "    .dataframe thead th {\n",
       "        text-align: right;\n",
       "    }\n",
       "</style>\n",
       "<table border=\"1\" class=\"dataframe\">\n",
       "  <thead>\n",
       "    <tr style=\"text-align: right;\">\n",
       "      <th></th>\n",
       "      <th>val</th>\n",
       "      <th>name</th>\n",
       "    </tr>\n",
       "  </thead>\n",
       "  <tbody>\n",
       "    <tr>\n",
       "      <th>0</th>\n",
       "      <td>0.020314</td>\n",
       "      <td>transport, passenger, electric bicycle</td>\n",
       "    </tr>\n",
       "    <tr>\n",
       "      <th>1</th>\n",
       "      <td>0.018435</td>\n",
       "      <td>transport, passenger, electric bicycle</td>\n",
       "    </tr>\n",
       "    <tr>\n",
       "      <th>2</th>\n",
       "      <td>0.039247</td>\n",
       "      <td>transport, passenger, electric bicycle</td>\n",
       "    </tr>\n",
       "    <tr>\n",
       "      <th>3</th>\n",
       "      <td>0.028007</td>\n",
       "      <td>transport, passenger, electric bicycle</td>\n",
       "    </tr>\n",
       "    <tr>\n",
       "      <th>4</th>\n",
       "      <td>0.039422</td>\n",
       "      <td>transport, passenger, electric bicycle</td>\n",
       "    </tr>\n",
       "    <tr>\n",
       "      <th>5</th>\n",
       "      <td>0.101719</td>\n",
       "      <td>transport, passenger aircraft, long haul</td>\n",
       "    </tr>\n",
       "    <tr>\n",
       "      <th>6</th>\n",
       "      <td>0.097381</td>\n",
       "      <td>transport, passenger aircraft, long haul</td>\n",
       "    </tr>\n",
       "    <tr>\n",
       "      <th>7</th>\n",
       "      <td>0.097785</td>\n",
       "      <td>transport, passenger aircraft, long haul</td>\n",
       "    </tr>\n",
       "    <tr>\n",
       "      <th>8</th>\n",
       "      <td>0.111430</td>\n",
       "      <td>transport, passenger aircraft, long haul</td>\n",
       "    </tr>\n",
       "    <tr>\n",
       "      <th>9</th>\n",
       "      <td>0.114069</td>\n",
       "      <td>transport, passenger aircraft, long haul</td>\n",
       "    </tr>\n",
       "    <tr>\n",
       "      <th>10</th>\n",
       "      <td>0.049588</td>\n",
       "      <td>transport, passenger train</td>\n",
       "    </tr>\n",
       "    <tr>\n",
       "      <th>11</th>\n",
       "      <td>0.054500</td>\n",
       "      <td>transport, passenger train</td>\n",
       "    </tr>\n",
       "    <tr>\n",
       "      <th>12</th>\n",
       "      <td>0.064033</td>\n",
       "      <td>transport, passenger train</td>\n",
       "    </tr>\n",
       "    <tr>\n",
       "      <th>13</th>\n",
       "      <td>0.052064</td>\n",
       "      <td>transport, passenger train</td>\n",
       "    </tr>\n",
       "    <tr>\n",
       "      <th>14</th>\n",
       "      <td>0.056877</td>\n",
       "      <td>transport, passenger train</td>\n",
       "    </tr>\n",
       "  </tbody>\n",
       "</table>\n",
       "</div>"
      ],
      "text/plain": [
       "         val                                      name\n",
       "0   0.020314    transport, passenger, electric bicycle\n",
       "1   0.018435    transport, passenger, electric bicycle\n",
       "2   0.039247    transport, passenger, electric bicycle\n",
       "3   0.028007    transport, passenger, electric bicycle\n",
       "4   0.039422    transport, passenger, electric bicycle\n",
       "5   0.101719  transport, passenger aircraft, long haul\n",
       "6   0.097381  transport, passenger aircraft, long haul\n",
       "7   0.097785  transport, passenger aircraft, long haul\n",
       "8   0.111430  transport, passenger aircraft, long haul\n",
       "9   0.114069  transport, passenger aircraft, long haul\n",
       "10  0.049588                transport, passenger train\n",
       "11  0.054500                transport, passenger train\n",
       "12  0.064033                transport, passenger train\n",
       "13  0.052064                transport, passenger train\n",
       "14  0.056877                transport, passenger train"
      ]
     },
     "execution_count": 10,
     "metadata": {},
     "output_type": "execute_result"
    }
   ],
   "source": [
    "df3"
   ]
  },
  {
   "cell_type": "code",
   "execution_count": 123,
   "id": "4721f15f-3972-4730-a9b8-ec9c59303943",
   "metadata": {},
   "outputs": [
    {
     "name": "stderr",
     "output_type": "stream",
     "text": [
      "[d3blocks] >INFO> Cleaning edge_properties and config parameters..\n",
      "[d3blocks] >INFO> Cleaning edge_properties and config parameters..\n",
      "[d3blocks] >INFO> Initializing [Violin]\n",
      "[d3blocks] >INFO> Number of samples: 300\n"
     ]
    },
    {
     "name": "stdout",
     "output_type": "stream",
     "text": [
      "[colourmap]> Warning: Colormap [inferno] can not create [300] unique colors! Available unique colors: [256].\n"
     ]
    },
    {
     "name": "stderr",
     "output_type": "stream",
     "text": [
      "[d3blocks] >INFO> File not found: [file:////var/folders/cn/pys1j9rn0y7djkhv3hfdtrs00000gn/T/d3blocks/violine_demo.html]\n",
      "[d3blocks] >INFO> Open browser: file:////var/folders/cn/pys1j9rn0y7djkhv3hfdtrs00000gn/T/d3blocks/violine_demo.html\n"
     ]
    }
   ],
   "source": [
    "d3 = D3Blocks()\n",
    "d3.violin(x=df3['name'].values, # class labels on the x axis\n",
    "          y=df3['val'].values,    # Age\n",
    "          #tooltip=tooltip,       # Tooltip for hovering\n",
    "          bins=50,               # Bins used for the histogram\n",
    "          #size=df['survival_months'].values/10, # Dotsize\n",
    "          #x_order=['acc','kich', 'brca','lgg','blca','coad','ov'], # Keep only these classes and plot in this order.\n",
    "          figsize=[None, None],                                    # Figure size is automatically determined.\n",
    "          filepath='violine_demo.html'\n",
    "         \n",
    ")"
   ]
  },
  {
   "cell_type": "code",
   "execution_count": 125,
   "id": "0afcea59-dbc1-4206-8022-82ff5c322f24",
   "metadata": {},
   "outputs": [
    {
     "data": {
      "text/plain": [
       "array(['market for transport, passenger, bicycle',\n",
       "       'transport, passenger, electric bicycle',\n",
       "       'transport, passenger train'], dtype=object)"
      ]
     },
     "execution_count": 125,
     "metadata": {},
     "output_type": "execute_result"
    }
   ],
   "source": [
    "df3[\"name\"].unique()"
   ]
  },
  {
   "cell_type": "code",
   "execution_count": null,
   "id": "e037d9d7-eae4-40bb-a4f6-689b44985667",
   "metadata": {},
   "outputs": [],
   "source": []
  }
 ],
 "metadata": {
  "kernelspec": {
   "display_name": "Python 3 (ipykernel)",
   "language": "python",
   "name": "python3"
  },
  "language_info": {
   "codemirror_mode": {
    "name": "ipython",
    "version": 3
   },
   "file_extension": ".py",
   "mimetype": "text/x-python",
   "name": "python",
   "nbconvert_exporter": "python",
   "pygments_lexer": "ipython3",
   "version": "3.9.15"
  }
 },
 "nbformat": 4,
 "nbformat_minor": 5
}
